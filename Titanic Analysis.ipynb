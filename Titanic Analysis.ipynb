{
 "cells": [
  {
   "cell_type": "markdown",
   "id": "87c42c68",
   "metadata": {},
   "source": [
    "# Import the required libraries"
   ]
  },
  {
   "cell_type": "code",
   "execution_count": 4,
   "id": "5abed96d",
   "metadata": {},
   "outputs": [],
   "source": [
    "import pandas as pd\n",
    "import numpy as np\n",
    "\n",
    "import matplotlib.pyplot as plt\n",
    "from pandas.plotting import scatter_matrix\n",
    "%matplotlib inline\n",
    "\n",
    "import seaborn as sns\n",
    "sns.set(style=\"white\",color_codes=True)\n",
    "sns.set(font_scale=1.5)\n",
    "\n",
    "from sklearn.tree import DecisionTreeClassifier\n",
    "from sklearn.linear_model import LogisticRegression\n",
    "from sklearn.model_selection import train_test_split\n",
    "\n",
    "from sklearn.metrics import confusion_matrix\n",
    "from sklearn.metrics import classification_report\n",
    "from sklearn.metrics import accuracy_score\n",
    "from sklearn.metrics import precision_score\n",
    "from sklearn.metrics import recall_score\n",
    "from sklearn.metrics import f1_score\n",
    "from sklearn import metrics"
   ]
  },
  {
   "cell_type": "markdown",
   "id": "fc9e9761",
   "metadata": {},
   "source": [
    "# Load the dataset"
   ]
  },
  {
   "cell_type": "code",
   "execution_count": 5,
   "id": "a6307c22",
   "metadata": {},
   "outputs": [
    {
     "data": {
      "text/html": [
       "<div>\n",
       "<style scoped>\n",
       "    .dataframe tbody tr th:only-of-type {\n",
       "        vertical-align: middle;\n",
       "    }\n",
       "\n",
       "    .dataframe tbody tr th {\n",
       "        vertical-align: top;\n",
       "    }\n",
       "\n",
       "    .dataframe thead th {\n",
       "        text-align: right;\n",
       "    }\n",
       "</style>\n",
       "<table border=\"1\" class=\"dataframe\">\n",
       "  <thead>\n",
       "    <tr style=\"text-align: right;\">\n",
       "      <th></th>\n",
       "      <th>PassengerId</th>\n",
       "      <th>Survived</th>\n",
       "      <th>Pclass</th>\n",
       "      <th>Name</th>\n",
       "      <th>Sex</th>\n",
       "      <th>Age</th>\n",
       "      <th>SibSp</th>\n",
       "      <th>Parch</th>\n",
       "      <th>Ticket</th>\n",
       "      <th>Fare</th>\n",
       "      <th>Cabin</th>\n",
       "      <th>Embarked</th>\n",
       "    </tr>\n",
       "  </thead>\n",
       "  <tbody>\n",
       "    <tr>\n",
       "      <th>0</th>\n",
       "      <td>1</td>\n",
       "      <td>0</td>\n",
       "      <td>3</td>\n",
       "      <td>Braund, Mr. Owen Harris</td>\n",
       "      <td>male</td>\n",
       "      <td>22.0</td>\n",
       "      <td>1</td>\n",
       "      <td>0</td>\n",
       "      <td>A/5 21171</td>\n",
       "      <td>7.2500</td>\n",
       "      <td>NaN</td>\n",
       "      <td>S</td>\n",
       "    </tr>\n",
       "    <tr>\n",
       "      <th>1</th>\n",
       "      <td>2</td>\n",
       "      <td>1</td>\n",
       "      <td>1</td>\n",
       "      <td>Cumings, Mrs. John Bradley (Florence Briggs Th...</td>\n",
       "      <td>female</td>\n",
       "      <td>38.0</td>\n",
       "      <td>1</td>\n",
       "      <td>0</td>\n",
       "      <td>PC 17599</td>\n",
       "      <td>71.2833</td>\n",
       "      <td>C85</td>\n",
       "      <td>C</td>\n",
       "    </tr>\n",
       "    <tr>\n",
       "      <th>2</th>\n",
       "      <td>3</td>\n",
       "      <td>1</td>\n",
       "      <td>3</td>\n",
       "      <td>Heikkinen, Miss. Laina</td>\n",
       "      <td>female</td>\n",
       "      <td>26.0</td>\n",
       "      <td>0</td>\n",
       "      <td>0</td>\n",
       "      <td>STON/O2. 3101282</td>\n",
       "      <td>7.9250</td>\n",
       "      <td>NaN</td>\n",
       "      <td>S</td>\n",
       "    </tr>\n",
       "    <tr>\n",
       "      <th>3</th>\n",
       "      <td>4</td>\n",
       "      <td>1</td>\n",
       "      <td>1</td>\n",
       "      <td>Futrelle, Mrs. Jacques Heath (Lily May Peel)</td>\n",
       "      <td>female</td>\n",
       "      <td>35.0</td>\n",
       "      <td>1</td>\n",
       "      <td>0</td>\n",
       "      <td>113803</td>\n",
       "      <td>53.1000</td>\n",
       "      <td>C123</td>\n",
       "      <td>S</td>\n",
       "    </tr>\n",
       "    <tr>\n",
       "      <th>4</th>\n",
       "      <td>5</td>\n",
       "      <td>0</td>\n",
       "      <td>3</td>\n",
       "      <td>Allen, Mr. William Henry</td>\n",
       "      <td>male</td>\n",
       "      <td>35.0</td>\n",
       "      <td>0</td>\n",
       "      <td>0</td>\n",
       "      <td>373450</td>\n",
       "      <td>8.0500</td>\n",
       "      <td>NaN</td>\n",
       "      <td>S</td>\n",
       "    </tr>\n",
       "  </tbody>\n",
       "</table>\n",
       "</div>"
      ],
      "text/plain": [
       "   PassengerId  Survived  Pclass  \\\n",
       "0            1         0       3   \n",
       "1            2         1       1   \n",
       "2            3         1       3   \n",
       "3            4         1       1   \n",
       "4            5         0       3   \n",
       "\n",
       "                                                Name     Sex   Age  SibSp  \\\n",
       "0                            Braund, Mr. Owen Harris    male  22.0      1   \n",
       "1  Cumings, Mrs. John Bradley (Florence Briggs Th...  female  38.0      1   \n",
       "2                             Heikkinen, Miss. Laina  female  26.0      0   \n",
       "3       Futrelle, Mrs. Jacques Heath (Lily May Peel)  female  35.0      1   \n",
       "4                           Allen, Mr. William Henry    male  35.0      0   \n",
       "\n",
       "   Parch            Ticket     Fare Cabin Embarked  \n",
       "0      0         A/5 21171   7.2500   NaN        S  \n",
       "1      0          PC 17599  71.2833   C85        C  \n",
       "2      0  STON/O2. 3101282   7.9250   NaN        S  \n",
       "3      0            113803  53.1000  C123        S  \n",
       "4      0            373450   8.0500   NaN        S  "
      ]
     },
     "execution_count": 5,
     "metadata": {},
     "output_type": "execute_result"
    }
   ],
   "source": [
    "df = pd.read_csv(r\"C:\\Users\\USER\\Downloads\\train.csv\")\n",
    "df.head()"
   ]
  },
  {
   "cell_type": "markdown",
   "id": "51f670c1",
   "metadata": {},
   "source": [
    "# Exploratory Data Analysis and Cleaning of the data"
   ]
  },
  {
   "cell_type": "code",
   "execution_count": 6,
   "id": "7d188ad8",
   "metadata": {},
   "outputs": [
    {
     "data": {
      "text/plain": [
       "(891, 12)"
      ]
     },
     "execution_count": 6,
     "metadata": {},
     "output_type": "execute_result"
    }
   ],
   "source": [
    "# view the shape of the dataset\n",
    "df.shape"
   ]
  },
  {
   "cell_type": "code",
   "execution_count": 7,
   "id": "ec0b7ff8",
   "metadata": {},
   "outputs": [
    {
     "data": {
      "text/plain": [
       "0    549\n",
       "1    342\n",
       "Name: Survived, dtype: int64"
      ]
     },
     "execution_count": 7,
     "metadata": {},
     "output_type": "execute_result"
    }
   ],
   "source": [
    "# view the number of survivors\n",
    "df.Survived.value_counts()"
   ]
  },
  {
   "cell_type": "code",
   "execution_count": 8,
   "id": "ae0a63ff",
   "metadata": {},
   "outputs": [
    {
     "data": {
      "text/plain": [
       "male      577\n",
       "female    314\n",
       "Name: Sex, dtype: int64"
      ]
     },
     "execution_count": 8,
     "metadata": {},
     "output_type": "execute_result"
    }
   ],
   "source": [
    "# view the number of male and female\n",
    "df.Sex.value_counts()"
   ]
  },
  {
   "cell_type": "code",
   "execution_count": 9,
   "id": "29d29885",
   "metadata": {},
   "outputs": [
    {
     "data": {
      "text/plain": [
       "S    644\n",
       "C    168\n",
       "Q     77\n",
       "Name: Embarked, dtype: int64"
      ]
     },
     "execution_count": 9,
     "metadata": {},
     "output_type": "execute_result"
    }
   ],
   "source": [
    "# port of embarkation\n",
    "df.Embarked.value_counts()"
   ]
  },
  {
   "cell_type": "code",
   "execution_count": 10,
   "id": "9cd858cf",
   "metadata": {},
   "outputs": [
    {
     "data": {
      "text/plain": [
       "PassengerId      0\n",
       "Survived         0\n",
       "Pclass           0\n",
       "Name             0\n",
       "Sex              0\n",
       "Age            177\n",
       "SibSp            0\n",
       "Parch            0\n",
       "Ticket           0\n",
       "Fare             0\n",
       "Cabin          687\n",
       "Embarked         2\n",
       "dtype: int64"
      ]
     },
     "execution_count": 10,
     "metadata": {},
     "output_type": "execute_result"
    }
   ],
   "source": [
    "# Check the list of columns with null values\n",
    "df.isnull().sum()"
   ]
  },
  {
   "cell_type": "code",
   "execution_count": 11,
   "id": "d2155b65",
   "metadata": {},
   "outputs": [
    {
     "name": "stdout",
     "output_type": "stream",
     "text": [
      "<class 'pandas.core.frame.DataFrame'>\n",
      "RangeIndex: 891 entries, 0 to 890\n",
      "Data columns (total 12 columns):\n",
      " #   Column       Non-Null Count  Dtype  \n",
      "---  ------       --------------  -----  \n",
      " 0   PassengerId  891 non-null    int64  \n",
      " 1   Survived     891 non-null    int64  \n",
      " 2   Pclass       891 non-null    int64  \n",
      " 3   Name         891 non-null    object \n",
      " 4   Sex          891 non-null    object \n",
      " 5   Age          714 non-null    float64\n",
      " 6   SibSp        891 non-null    int64  \n",
      " 7   Parch        891 non-null    int64  \n",
      " 8   Ticket       891 non-null    object \n",
      " 9   Fare         891 non-null    float64\n",
      " 10  Cabin        204 non-null    object \n",
      " 11  Embarked     889 non-null    object \n",
      "dtypes: float64(2), int64(5), object(5)\n",
      "memory usage: 83.7+ KB\n"
     ]
    }
   ],
   "source": [
    "# view the full details of the data\n",
    "df.info()"
   ]
  },
  {
   "cell_type": "code",
   "execution_count": 12,
   "id": "d79565d2",
   "metadata": {},
   "outputs": [
    {
     "name": "stderr",
     "output_type": "stream",
     "text": [
      "C:\\Users\\USER\\AppData\\Local\\Temp\\ipykernel_6812\\2234492770.py:2: FutureWarning: The default value of numeric_only in DataFrame.corr is deprecated. In a future version, it will default to False. Select only valid columns or specify the value of numeric_only to silence this warning.\n",
      "  df_corr_matrix = round(df.corr(), 3)\n"
     ]
    },
    {
     "data": {
      "text/html": [
       "<div>\n",
       "<style scoped>\n",
       "    .dataframe tbody tr th:only-of-type {\n",
       "        vertical-align: middle;\n",
       "    }\n",
       "\n",
       "    .dataframe tbody tr th {\n",
       "        vertical-align: top;\n",
       "    }\n",
       "\n",
       "    .dataframe thead th {\n",
       "        text-align: right;\n",
       "    }\n",
       "</style>\n",
       "<table border=\"1\" class=\"dataframe\">\n",
       "  <thead>\n",
       "    <tr style=\"text-align: right;\">\n",
       "      <th></th>\n",
       "      <th>PassengerId</th>\n",
       "      <th>Survived</th>\n",
       "      <th>Pclass</th>\n",
       "      <th>Age</th>\n",
       "      <th>SibSp</th>\n",
       "      <th>Parch</th>\n",
       "      <th>Fare</th>\n",
       "    </tr>\n",
       "  </thead>\n",
       "  <tbody>\n",
       "    <tr>\n",
       "      <th>PassengerId</th>\n",
       "      <td>1.000</td>\n",
       "      <td>-0.005</td>\n",
       "      <td>-0.035</td>\n",
       "      <td>0.037</td>\n",
       "      <td>-0.058</td>\n",
       "      <td>-0.002</td>\n",
       "      <td>0.013</td>\n",
       "    </tr>\n",
       "    <tr>\n",
       "      <th>Survived</th>\n",
       "      <td>-0.005</td>\n",
       "      <td>1.000</td>\n",
       "      <td>-0.338</td>\n",
       "      <td>-0.077</td>\n",
       "      <td>-0.035</td>\n",
       "      <td>0.082</td>\n",
       "      <td>0.257</td>\n",
       "    </tr>\n",
       "    <tr>\n",
       "      <th>Pclass</th>\n",
       "      <td>-0.035</td>\n",
       "      <td>-0.338</td>\n",
       "      <td>1.000</td>\n",
       "      <td>-0.369</td>\n",
       "      <td>0.083</td>\n",
       "      <td>0.018</td>\n",
       "      <td>-0.549</td>\n",
       "    </tr>\n",
       "    <tr>\n",
       "      <th>Age</th>\n",
       "      <td>0.037</td>\n",
       "      <td>-0.077</td>\n",
       "      <td>-0.369</td>\n",
       "      <td>1.000</td>\n",
       "      <td>-0.308</td>\n",
       "      <td>-0.189</td>\n",
       "      <td>0.096</td>\n",
       "    </tr>\n",
       "    <tr>\n",
       "      <th>SibSp</th>\n",
       "      <td>-0.058</td>\n",
       "      <td>-0.035</td>\n",
       "      <td>0.083</td>\n",
       "      <td>-0.308</td>\n",
       "      <td>1.000</td>\n",
       "      <td>0.415</td>\n",
       "      <td>0.160</td>\n",
       "    </tr>\n",
       "    <tr>\n",
       "      <th>Parch</th>\n",
       "      <td>-0.002</td>\n",
       "      <td>0.082</td>\n",
       "      <td>0.018</td>\n",
       "      <td>-0.189</td>\n",
       "      <td>0.415</td>\n",
       "      <td>1.000</td>\n",
       "      <td>0.216</td>\n",
       "    </tr>\n",
       "    <tr>\n",
       "      <th>Fare</th>\n",
       "      <td>0.013</td>\n",
       "      <td>0.257</td>\n",
       "      <td>-0.549</td>\n",
       "      <td>0.096</td>\n",
       "      <td>0.160</td>\n",
       "      <td>0.216</td>\n",
       "      <td>1.000</td>\n",
       "    </tr>\n",
       "  </tbody>\n",
       "</table>\n",
       "</div>"
      ],
      "text/plain": [
       "             PassengerId  Survived  Pclass    Age  SibSp  Parch   Fare\n",
       "PassengerId        1.000    -0.005  -0.035  0.037 -0.058 -0.002  0.013\n",
       "Survived          -0.005     1.000  -0.338 -0.077 -0.035  0.082  0.257\n",
       "Pclass            -0.035    -0.338   1.000 -0.369  0.083  0.018 -0.549\n",
       "Age                0.037    -0.077  -0.369  1.000 -0.308 -0.189  0.096\n",
       "SibSp             -0.058    -0.035   0.083 -0.308  1.000  0.415  0.160\n",
       "Parch             -0.002     0.082   0.018 -0.189  0.415  1.000  0.216\n",
       "Fare               0.013     0.257  -0.549  0.096  0.160  0.216  1.000"
      ]
     },
     "execution_count": 12,
     "metadata": {},
     "output_type": "execute_result"
    }
   ],
   "source": [
    "# correlation matrix of how the fields are related\n",
    "df_corr_matrix = round(df.corr(), 3)\n",
    "df_corr_matrix"
   ]
  },
  {
   "cell_type": "code",
   "execution_count": 13,
   "id": "6b54264d",
   "metadata": {},
   "outputs": [
    {
     "data": {
      "text/html": [
       "<div>\n",
       "<style scoped>\n",
       "    .dataframe tbody tr th:only-of-type {\n",
       "        vertical-align: middle;\n",
       "    }\n",
       "\n",
       "    .dataframe tbody tr th {\n",
       "        vertical-align: top;\n",
       "    }\n",
       "\n",
       "    .dataframe thead th {\n",
       "        text-align: right;\n",
       "    }\n",
       "</style>\n",
       "<table border=\"1\" class=\"dataframe\">\n",
       "  <thead>\n",
       "    <tr style=\"text-align: right;\">\n",
       "      <th></th>\n",
       "      <th>Survived</th>\n",
       "      <th>Pclass</th>\n",
       "      <th>Sex</th>\n",
       "      <th>Age</th>\n",
       "      <th>SibSp</th>\n",
       "      <th>Parch</th>\n",
       "      <th>Fare</th>\n",
       "      <th>Embarked</th>\n",
       "    </tr>\n",
       "  </thead>\n",
       "  <tbody>\n",
       "    <tr>\n",
       "      <th>0</th>\n",
       "      <td>0</td>\n",
       "      <td>3</td>\n",
       "      <td>male</td>\n",
       "      <td>22.0</td>\n",
       "      <td>1</td>\n",
       "      <td>0</td>\n",
       "      <td>7.2500</td>\n",
       "      <td>S</td>\n",
       "    </tr>\n",
       "    <tr>\n",
       "      <th>1</th>\n",
       "      <td>1</td>\n",
       "      <td>1</td>\n",
       "      <td>female</td>\n",
       "      <td>38.0</td>\n",
       "      <td>1</td>\n",
       "      <td>0</td>\n",
       "      <td>71.2833</td>\n",
       "      <td>C</td>\n",
       "    </tr>\n",
       "    <tr>\n",
       "      <th>2</th>\n",
       "      <td>1</td>\n",
       "      <td>3</td>\n",
       "      <td>female</td>\n",
       "      <td>26.0</td>\n",
       "      <td>0</td>\n",
       "      <td>0</td>\n",
       "      <td>7.9250</td>\n",
       "      <td>S</td>\n",
       "    </tr>\n",
       "    <tr>\n",
       "      <th>3</th>\n",
       "      <td>1</td>\n",
       "      <td>1</td>\n",
       "      <td>female</td>\n",
       "      <td>35.0</td>\n",
       "      <td>1</td>\n",
       "      <td>0</td>\n",
       "      <td>53.1000</td>\n",
       "      <td>S</td>\n",
       "    </tr>\n",
       "    <tr>\n",
       "      <th>4</th>\n",
       "      <td>0</td>\n",
       "      <td>3</td>\n",
       "      <td>male</td>\n",
       "      <td>35.0</td>\n",
       "      <td>0</td>\n",
       "      <td>0</td>\n",
       "      <td>8.0500</td>\n",
       "      <td>S</td>\n",
       "    </tr>\n",
       "  </tbody>\n",
       "</table>\n",
       "</div>"
      ],
      "text/plain": [
       "   Survived  Pclass     Sex   Age  SibSp  Parch     Fare Embarked\n",
       "0         0       3    male  22.0      1      0   7.2500        S\n",
       "1         1       1  female  38.0      1      0  71.2833        C\n",
       "2         1       3  female  26.0      0      0   7.9250        S\n",
       "3         1       1  female  35.0      1      0  53.1000        S\n",
       "4         0       3    male  35.0      0      0   8.0500        S"
      ]
     },
     "execution_count": 13,
     "metadata": {},
     "output_type": "execute_result"
    }
   ],
   "source": [
    "# drop the values that contribute less to our outcome\n",
    "data = df.drop(columns=['PassengerId', 'Name', 'Ticket', 'Cabin'])\n",
    "data.head()"
   ]
  },
  {
   "cell_type": "code",
   "execution_count": 14,
   "id": "073374c1",
   "metadata": {},
   "outputs": [],
   "source": [
    "# creating a function that will be used to fill in the missing values in age column using the Pclass\n",
    "def age_func(cols):\n",
    "    Age = cols[0]\n",
    "    Pclass = cols[1]\n",
    "    \n",
    "    if pd.isnull(Age):\n",
    "        if Pclass ==1:\n",
    "            return 37\n",
    "        elif Pclass ==2:\n",
    "            return 29\n",
    "        else:\n",
    "            return 24\n",
    "    else:\n",
    "        return Age"
   ]
  },
  {
   "cell_type": "code",
   "execution_count": 15,
   "id": "b1a1d6f6",
   "metadata": {},
   "outputs": [],
   "source": [
    "# apply the function created earlier to the age column\n",
    "data[\"Age\"] = df[['Age', 'Pclass']].apply(age_func, axis=1)"
   ]
  },
  {
   "cell_type": "code",
   "execution_count": 16,
   "id": "e7784b1e",
   "metadata": {},
   "outputs": [
    {
     "data": {
      "text/plain": [
       "Survived    0\n",
       "Pclass      0\n",
       "Sex         0\n",
       "Age         0\n",
       "SibSp       0\n",
       "Parch       0\n",
       "Fare        0\n",
       "Embarked    2\n",
       "dtype: int64"
      ]
     },
     "execution_count": 16,
     "metadata": {},
     "output_type": "execute_result"
    }
   ],
   "source": [
    "# check if there's any null value \n",
    "data.isnull().sum()"
   ]
  },
  {
   "cell_type": "code",
   "execution_count": 17,
   "id": "b6e02254",
   "metadata": {},
   "outputs": [
    {
     "data": {
      "text/plain": [
       "Survived    0\n",
       "Pclass      0\n",
       "Sex         0\n",
       "Age         0\n",
       "SibSp       0\n",
       "Parch       0\n",
       "Fare        0\n",
       "Embarked    2\n",
       "dtype: int64"
      ]
     },
     "execution_count": 17,
     "metadata": {},
     "output_type": "execute_result"
    }
   ],
   "source": [
    "data.isnull().sum()"
   ]
  },
  {
   "cell_type": "code",
   "execution_count": 18,
   "id": "3343aea3",
   "metadata": {},
   "outputs": [
    {
     "data": {
      "text/plain": [
       "Survived      int64\n",
       "Pclass        int64\n",
       "Sex          object\n",
       "Age         float64\n",
       "SibSp         int64\n",
       "Parch         int64\n",
       "Fare        float64\n",
       "Embarked     object\n",
       "dtype: object"
      ]
     },
     "execution_count": 18,
     "metadata": {},
     "output_type": "execute_result"
    }
   ],
   "source": [
    "# check the data types of our columns\n",
    "data.dtypes"
   ]
  },
  {
   "cell_type": "code",
   "execution_count": 19,
   "id": "a3c25cef",
   "metadata": {},
   "outputs": [],
   "source": [
    "men = data.loc[data.Sex == 'male']['Survived']"
   ]
  },
  {
   "cell_type": "code",
   "execution_count": 20,
   "id": "09c97170",
   "metadata": {},
   "outputs": [],
   "source": [
    "# rating the male that survived\n",
    "rate_men = sum(men)/len(men)"
   ]
  },
  {
   "cell_type": "code",
   "execution_count": 21,
   "id": "a04aeb26",
   "metadata": {},
   "outputs": [
    {
     "data": {
      "text/plain": [
       "0.18890814558058924"
      ]
     },
     "execution_count": 21,
     "metadata": {},
     "output_type": "execute_result"
    }
   ],
   "source": [
    "rate_men"
   ]
  },
  {
   "cell_type": "code",
   "execution_count": 22,
   "id": "fc55e097",
   "metadata": {},
   "outputs": [
    {
     "data": {
      "text/plain": [
       "883    0\n",
       "884    0\n",
       "886    0\n",
       "889    1\n",
       "890    0\n",
       "Name: Survived, dtype: int64"
      ]
     },
     "execution_count": 22,
     "metadata": {},
     "output_type": "execute_result"
    }
   ],
   "source": [
    "men.tail()"
   ]
  },
  {
   "cell_type": "code",
   "execution_count": 23,
   "id": "3b9b13c6",
   "metadata": {},
   "outputs": [],
   "source": [
    "data_dummied = pd.get_dummies(data, columns=[\"Sex\", \"Embarked\"])"
   ]
  },
  {
   "cell_type": "code",
   "execution_count": 24,
   "id": "a5ec7551",
   "metadata": {},
   "outputs": [
    {
     "data": {
      "text/html": [
       "<div>\n",
       "<style scoped>\n",
       "    .dataframe tbody tr th:only-of-type {\n",
       "        vertical-align: middle;\n",
       "    }\n",
       "\n",
       "    .dataframe tbody tr th {\n",
       "        vertical-align: top;\n",
       "    }\n",
       "\n",
       "    .dataframe thead th {\n",
       "        text-align: right;\n",
       "    }\n",
       "</style>\n",
       "<table border=\"1\" class=\"dataframe\">\n",
       "  <thead>\n",
       "    <tr style=\"text-align: right;\">\n",
       "      <th></th>\n",
       "      <th>Survived</th>\n",
       "      <th>Pclass</th>\n",
       "      <th>Age</th>\n",
       "      <th>SibSp</th>\n",
       "      <th>Parch</th>\n",
       "      <th>Fare</th>\n",
       "      <th>Sex_female</th>\n",
       "      <th>Sex_male</th>\n",
       "      <th>Embarked_C</th>\n",
       "      <th>Embarked_Q</th>\n",
       "      <th>Embarked_S</th>\n",
       "    </tr>\n",
       "  </thead>\n",
       "  <tbody>\n",
       "    <tr>\n",
       "      <th>0</th>\n",
       "      <td>0</td>\n",
       "      <td>3</td>\n",
       "      <td>22.0</td>\n",
       "      <td>1</td>\n",
       "      <td>0</td>\n",
       "      <td>7.2500</td>\n",
       "      <td>0</td>\n",
       "      <td>1</td>\n",
       "      <td>0</td>\n",
       "      <td>0</td>\n",
       "      <td>1</td>\n",
       "    </tr>\n",
       "    <tr>\n",
       "      <th>1</th>\n",
       "      <td>1</td>\n",
       "      <td>1</td>\n",
       "      <td>38.0</td>\n",
       "      <td>1</td>\n",
       "      <td>0</td>\n",
       "      <td>71.2833</td>\n",
       "      <td>1</td>\n",
       "      <td>0</td>\n",
       "      <td>1</td>\n",
       "      <td>0</td>\n",
       "      <td>0</td>\n",
       "    </tr>\n",
       "    <tr>\n",
       "      <th>2</th>\n",
       "      <td>1</td>\n",
       "      <td>3</td>\n",
       "      <td>26.0</td>\n",
       "      <td>0</td>\n",
       "      <td>0</td>\n",
       "      <td>7.9250</td>\n",
       "      <td>1</td>\n",
       "      <td>0</td>\n",
       "      <td>0</td>\n",
       "      <td>0</td>\n",
       "      <td>1</td>\n",
       "    </tr>\n",
       "    <tr>\n",
       "      <th>3</th>\n",
       "      <td>1</td>\n",
       "      <td>1</td>\n",
       "      <td>35.0</td>\n",
       "      <td>1</td>\n",
       "      <td>0</td>\n",
       "      <td>53.1000</td>\n",
       "      <td>1</td>\n",
       "      <td>0</td>\n",
       "      <td>0</td>\n",
       "      <td>0</td>\n",
       "      <td>1</td>\n",
       "    </tr>\n",
       "    <tr>\n",
       "      <th>4</th>\n",
       "      <td>0</td>\n",
       "      <td>3</td>\n",
       "      <td>35.0</td>\n",
       "      <td>0</td>\n",
       "      <td>0</td>\n",
       "      <td>8.0500</td>\n",
       "      <td>0</td>\n",
       "      <td>1</td>\n",
       "      <td>0</td>\n",
       "      <td>0</td>\n",
       "      <td>1</td>\n",
       "    </tr>\n",
       "  </tbody>\n",
       "</table>\n",
       "</div>"
      ],
      "text/plain": [
       "   Survived  Pclass   Age  SibSp  Parch     Fare  Sex_female  Sex_male  \\\n",
       "0         0       3  22.0      1      0   7.2500           0         1   \n",
       "1         1       1  38.0      1      0  71.2833           1         0   \n",
       "2         1       3  26.0      0      0   7.9250           1         0   \n",
       "3         1       1  35.0      1      0  53.1000           1         0   \n",
       "4         0       3  35.0      0      0   8.0500           0         1   \n",
       "\n",
       "   Embarked_C  Embarked_Q  Embarked_S  \n",
       "0           0           0           1  \n",
       "1           1           0           0  \n",
       "2           0           0           1  \n",
       "3           0           0           1  \n",
       "4           0           0           1  "
      ]
     },
     "execution_count": 24,
     "metadata": {},
     "output_type": "execute_result"
    }
   ],
   "source": [
    "data_dummied.head()"
   ]
  },
  {
   "cell_type": "code",
   "execution_count": 25,
   "id": "809ddc98",
   "metadata": {},
   "outputs": [
    {
     "data": {
      "text/plain": [
       "Survived      0\n",
       "Pclass        0\n",
       "Age           0\n",
       "SibSp         0\n",
       "Parch         0\n",
       "Fare          0\n",
       "Sex_female    0\n",
       "Sex_male      0\n",
       "Embarked_C    0\n",
       "Embarked_Q    0\n",
       "Embarked_S    0\n",
       "dtype: int64"
      ]
     },
     "execution_count": 25,
     "metadata": {},
     "output_type": "execute_result"
    }
   ],
   "source": [
    "data_dummied.isnull().sum()"
   ]
  },
  {
   "cell_type": "code",
   "execution_count": 26,
   "id": "16db6d1c",
   "metadata": {},
   "outputs": [
    {
     "data": {
      "text/plain": [
       "<AxesSubplot:>"
      ]
     },
     "execution_count": 26,
     "metadata": {},
     "output_type": "execute_result"
    },
    {
     "data": {
      "image/png": "[encoded data removed]",
      "text/plain": [
       "<Figure size 432x288 with 2 Axes>"
      ]
     },
     "metadata": {},
     "output_type": "display_data"
    }
   ],
   "source": [
    "sns.heatmap(data_dummied.corr())"
   ]
  },
  {
   "cell_type": "code",
   "execution_count": 27,
   "id": "0dfd1612",
   "metadata": {},
   "outputs": [],
   "source": [
    "features = [\"Pclass\",\"Age\",\"SibSp\",\"Sex_female\",\"Sex_male\",\"Embarked_C\",\"Embarked_Q\",\"Embarked_S\"]"
   ]
  },
  {
   "cell_type": "code",
   "execution_count": 28,
   "id": "00d0ce18",
   "metadata": {},
   "outputs": [],
   "source": [
    "# initializing x and y from our data\n",
    "X = data_dummied[features].values\n",
    "y = data_dummied[\"Survived\"]"
   ]
  },
  {
   "cell_type": "code",
   "execution_count": 29,
   "id": "a45b3782",
   "metadata": {},
   "outputs": [],
   "source": [
    "Xtrain, Xtest, ytrain, ytest = train_test_split(X, y, test_size=0.3, random_state=4)"
   ]
  },
  {
   "cell_type": "code",
   "execution_count": 30,
   "id": "40aad5fc",
   "metadata": {},
   "outputs": [
    {
     "name": "stdout",
     "output_type": "stream",
     "text": [
      "(623, 8)\n",
      "(268, 8)\n",
      "(623,)\n",
      "(268,)\n"
     ]
    }
   ],
   "source": [
    "print(Xtrain.shape)\n",
    "print(Xtest.shape)\n",
    "print(ytrain.shape)\n",
    "print(ytest.shape)"
   ]
  },
  {
   "cell_type": "code",
   "execution_count": 31,
   "id": "ee4e5a81",
   "metadata": {},
   "outputs": [],
   "source": [
    "# define the model\n",
    "LogReg = LogisticRegression(solver='liblinear', random_state=1)"
   ]
  },
  {
   "cell_type": "code",
   "execution_count": 32,
   "id": "c182c495",
   "metadata": {},
   "outputs": [
    {
     "data": {
      "text/html": [
       "<style>#sk-container-id-1 {color: black;background-color: white;}#sk-container-id-1 pre{padding: 0;}#sk-container-id-1 div.sk-toggleable {background-color: white;}#sk-container-id-1 label.sk-toggleable__label {cursor: pointer;display: block;width: 100%;margin-bottom: 0;padding: 0.3em;box-sizing: border-box;text-align: center;}#sk-container-id-1 label.sk-toggleable__label-arrow:before {content: \"▸\";float: left;margin-right: 0.25em;color: #696969;}#sk-container-id-1 label.sk-toggleable__label-arrow:hover:before {color: black;}#sk-container-id-1 div.sk-estimator:hover label.sk-toggleable__label-arrow:before {color: black;}#sk-container-id-1 div.sk-toggleable__content {max-height: 0;max-width: 0;overflow: hidden;text-align: left;background-color: #f0f8ff;}#sk-container-id-1 div.sk-toggleable__content pre {margin: 0.2em;color: black;border-radius: 0.25em;background-color: #f0f8ff;}#sk-container-id-1 input.sk-toggleable__control:checked~div.sk-toggleable__content {max-height: 200px;max-width: 100%;overflow: auto;}#sk-container-id-1 input.sk-toggleable__control:checked~label.sk-toggleable__label-arrow:before {content: \"▾\";}#sk-container-id-1 div.sk-estimator input.sk-toggleable__control:checked~label.sk-toggleable__label {background-color: #d4ebff;}#sk-container-id-1 div.sk-label input.sk-toggleable__control:checked~label.sk-toggleable__label {background-color: #d4ebff;}#sk-container-id-1 input.sk-hidden--visually {border: 0;clip: rect(1px 1px 1px 1px);clip: rect(1px, 1px, 1px, 1px);height: 1px;margin: -1px;overflow: hidden;padding: 0;position: absolute;width: 1px;}#sk-container-id-1 div.sk-estimator {font-family: monospace;background-color: #f0f8ff;border: 1px dotted black;border-radius: 0.25em;box-sizing: border-box;margin-bottom: 0.5em;}#sk-container-id-1 div.sk-estimator:hover {background-color: #d4ebff;}#sk-container-id-1 div.sk-parallel-item::after {content: \"\";width: 100%;border-bottom: 1px solid gray;flex-grow: 1;}#sk-container-id-1 div.sk-label:hover label.sk-toggleable__label {background-color: #d4ebff;}#sk-container-id-1 div.sk-serial::before {content: \"\";position: absolute;border-left: 1px solid gray;box-sizing: border-box;top: 0;bottom: 0;left: 50%;z-index: 0;}#sk-container-id-1 div.sk-serial {display: flex;flex-direction: column;align-items: center;background-color: white;padding-right: 0.2em;padding-left: 0.2em;position: relative;}#sk-container-id-1 div.sk-item {position: relative;z-index: 1;}#sk-container-id-1 div.sk-parallel {display: flex;align-items: stretch;justify-content: center;background-color: white;position: relative;}#sk-container-id-1 div.sk-item::before, #sk-container-id-1 div.sk-parallel-item::before {content: \"\";position: absolute;border-left: 1px solid gray;box-sizing: border-box;top: 0;bottom: 0;left: 50%;z-index: -1;}#sk-container-id-1 div.sk-parallel-item {display: flex;flex-direction: column;z-index: 1;position: relative;background-color: white;}#sk-container-id-1 div.sk-parallel-item:first-child::after {align-self: flex-end;width: 50%;}#sk-container-id-1 div.sk-parallel-item:last-child::after {align-self: flex-start;width: 50%;}#sk-container-id-1 div.sk-parallel-item:only-child::after {width: 0;}#sk-container-id-1 div.sk-dashed-wrapped {border: 1px dashed gray;margin: 0 0.4em 0.5em 0.4em;box-sizing: border-box;padding-bottom: 0.4em;background-color: white;}#sk-container-id-1 div.sk-label label {font-family: monospace;font-weight: bold;display: inline-block;line-height: 1.2em;}#sk-container-id-1 div.sk-label-container {text-align: center;}#sk-container-id-1 div.sk-container {/* jupyter's `normalize.less` sets `[hidden] { display: none; }` but bootstrap.min.css set `[hidden] { display: none !important; }` so we also need the `!important` here to be able to override the default hidden behavior on the sphinx rendered scikit-learn.org. See: https://github.com/scikit-learn/scikit-learn/issues/21755 */display: inline-block !important;position: relative;}#sk-container-id-1 div.sk-text-repr-fallback {display: none;}</style><div id=\"sk-container-id-1\" class=\"sk-top-container\"><div class=\"sk-text-repr-fallback\"><pre>LogisticRegression(random_state=1, solver=&#x27;liblinear&#x27;)</pre><b>In a Jupyter environment, please rerun this cell to show the HTML representation or trust the notebook. <br />On GitHub, the HTML representation is unable to render, please try loading this page with nbviewer.org.</b></div><div class=\"sk-container\" hidden><div class=\"sk-item\"><div class=\"sk-estimator sk-toggleable\"><input class=\"sk-toggleable__control sk-hidden--visually\" id=\"sk-estimator-id-1\" type=\"checkbox\" checked><label for=\"sk-estimator-id-1\" class=\"sk-toggleable__label sk-toggleable__label-arrow\">LogisticRegression</label><div class=\"sk-toggleable__content\"><pre>LogisticRegression(random_state=1, solver=&#x27;liblinear&#x27;)</pre></div></div></div></div></div>"
      ],
      "text/plain": [
       "LogisticRegression(random_state=1, solver='liblinear')"
      ]
     },
     "execution_count": 32,
     "metadata": {},
     "output_type": "execute_result"
    }
   ],
   "source": [
    "# fitting the model\n",
    "LogReg.fit(Xtrain, ytrain)"
   ]
  },
  {
   "cell_type": "code",
   "execution_count": 33,
   "id": "d5b4bb37",
   "metadata": {},
   "outputs": [
    {
     "data": {
      "text/plain": [
       "array([[-1.0483394 , -0.0306083 , -0.21197115,  2.15571869, -0.27121338,\n",
       "         0.72091149,  0.51267133,  0.26206158]])"
      ]
     },
     "execution_count": 33,
     "metadata": {},
     "output_type": "execute_result"
    }
   ],
   "source": [
    "# checking for the coefficient of all the features\n",
    "LogReg.coef_"
   ]
  },
  {
   "cell_type": "code",
   "execution_count": 34,
   "id": "186c4117",
   "metadata": {},
   "outputs": [
    {
     "data": {
      "text/plain": [
       "array([1.88450531])"
      ]
     },
     "execution_count": 34,
     "metadata": {},
     "output_type": "execute_result"
    }
   ],
   "source": [
    "LogReg.intercept_"
   ]
  },
  {
   "cell_type": "code",
   "execution_count": 35,
   "id": "72a1dbd1",
   "metadata": {},
   "outputs": [
    {
     "data": {
      "text/plain": [
       "0.7991021324354658"
      ]
     },
     "execution_count": 35,
     "metadata": {},
     "output_type": "execute_result"
    }
   ],
   "source": [
    "LogReg.score(X,y)"
   ]
  },
  {
   "cell_type": "code",
   "execution_count": 36,
   "id": "67c9a1fa",
   "metadata": {},
   "outputs": [],
   "source": [
    "y_pred = LogReg.predict(X)"
   ]
  },
  {
   "cell_type": "code",
   "execution_count": 37,
   "id": "14aa96c4",
   "metadata": {},
   "outputs": [
    {
     "data": {
      "text/plain": [
       "array([[469,  80],\n",
       "       [ 99, 243]], dtype=int64)"
      ]
     },
     "execution_count": 37,
     "metadata": {},
     "output_type": "execute_result"
    }
   ],
   "source": [
    "confusion_matrix(y, y_pred)"
   ]
  },
  {
   "cell_type": "markdown",
   "id": "e4feea3b",
   "metadata": {},
   "source": [
    "# Report of the classification"
   ]
  },
  {
   "cell_type": "code",
   "execution_count": 38,
   "id": "e0faf51d",
   "metadata": {},
   "outputs": [
    {
     "name": "stdout",
     "output_type": "stream",
     "text": [
      "              precision    recall  f1-score   support\n",
      "\n",
      "           0       0.83      0.85      0.84       549\n",
      "           1       0.75      0.71      0.73       342\n",
      "\n",
      "    accuracy                           0.80       891\n",
      "   macro avg       0.79      0.78      0.79       891\n",
      "weighted avg       0.80      0.80      0.80       891\n",
      "\n"
     ]
    }
   ],
   "source": [
    "print(classification_report(y, y_pred))"
   ]
  },
  {
   "cell_type": "code",
   "execution_count": 39,
   "id": "6fed71ed",
   "metadata": {},
   "outputs": [
    {
     "data": {
      "text/plain": [
       "array([[0.86427057, 0.13572943],\n",
       "       [0.86782127, 0.13217873],\n",
       "       [0.33776327, 0.66223673],\n",
       "       [0.08579998, 0.91420002],\n",
       "       [0.90129181, 0.09870819],\n",
       "       [0.57578482, 0.42421518],\n",
       "       [0.11691679, 0.88308321],\n",
       "       [0.38667589, 0.61332411],\n",
       "       [0.56835912, 0.43164088],\n",
       "       [0.85971889, 0.14028111],\n",
       "       [0.88124405, 0.11875595],\n",
       "       [0.74574971, 0.25425029],\n",
       "       [0.24861834, 0.75138166],\n",
       "       [0.91681853, 0.08318147],\n",
       "       [0.13607836, 0.86392164],\n",
       "       [0.67063493, 0.32936507],\n",
       "       [0.90190052, 0.09809948],\n",
       "       [0.4915238 , 0.5084762 ],\n",
       "       [0.85313419, 0.14686581],\n",
       "       [0.12648307, 0.87351693],\n",
       "       [0.81859749, 0.18140251],\n",
       "       [0.84929265, 0.15070735],\n",
       "       [0.8242504 , 0.1757496 ],\n",
       "       [0.8242504 , 0.1757496 ],\n",
       "       [0.22645668, 0.77354332],\n",
       "       [0.4461002 , 0.5538998 ],\n",
       "       [0.05761956, 0.94238044],\n",
       "       [0.08562076, 0.91437924],\n",
       "       [0.88124405, 0.11875595],\n",
       "       [0.87468655, 0.12531345],\n",
       "       [0.85622241, 0.14377759],\n",
       "       [0.88124405, 0.11875595],\n",
       "       [0.70351649, 0.29648351],\n",
       "       [0.88124405, 0.11875595],\n",
       "       [0.85241312, 0.14758688],\n",
       "       [0.70191689, 0.29808311],\n",
       "       [0.91463303, 0.08536697],\n",
       "       [0.56773057, 0.43226943],\n",
       "       [0.75193632, 0.24806368],\n",
       "       [0.88370686, 0.11629314],\n",
       "       [0.26811138, 0.73188862],\n",
       "       [0.75905511, 0.24094489],\n",
       "       [0.16464722, 0.83535278],\n",
       "       [0.86694048, 0.13305952],\n",
       "       [0.94407078, 0.05592922],\n",
       "       [0.75193632, 0.24806368],\n",
       "       [0.88124405, 0.11875595],\n",
       "       [0.38858207, 0.61141793],\n",
       "       [0.90169799, 0.09830201],\n",
       "       [0.88124405, 0.11875595],\n",
       "       [0.86427057, 0.13572943],\n",
       "       [0.74034251, 0.25965749],\n",
       "       [0.21115691, 0.78884309],\n",
       "       [0.90437791, 0.09562209],\n",
       "       [0.89052246, 0.10947754],\n",
       "       [0.33776327, 0.66223673],\n",
       "       [0.69059086, 0.30940914],\n",
       "       [0.8841761 , 0.1158239 ],\n",
       "       [0.81366139, 0.18633861],\n",
       "       [0.1223154 , 0.8776846 ],\n",
       "       [0.74618309, 0.25381691],\n",
       "       [0.91463303, 0.08536697],\n",
       "       [0.86782127, 0.13217873],\n",
       "       [0.76866548, 0.23133452],\n",
       "       [0.88124405, 0.11875595],\n",
       "       [0.33776327, 0.66223673],\n",
       "       [0.23009697, 0.76990303],\n",
       "       [0.47794839, 0.52205161],\n",
       "       [0.86063981, 0.13936019],\n",
       "       [0.9053976 , 0.0946024 ],\n",
       "       [0.38695325, 0.61304675],\n",
       "       [0.78127315, 0.21872685],\n",
       "       [0.74618309, 0.25381691],\n",
       "       [0.7576015 , 0.2423985 ],\n",
       "       [0.85288188, 0.14711812],\n",
       "       [0.86782127, 0.13217873],\n",
       "       [0.87129292, 0.12870708],\n",
       "       [0.87129292, 0.12870708],\n",
       "       [0.87800323, 0.12199677],\n",
       "       [0.89347106, 0.10652894],\n",
       "       [0.8521722 , 0.1478278 ],\n",
       "       [0.33859832, 0.66140168],\n",
       "       [0.86427057, 0.13572943],\n",
       "       [0.73886785, 0.26113215],\n",
       "       [0.13607836, 0.86392164],\n",
       "       [0.4846219 , 0.5153781 ],\n",
       "       [0.76317805, 0.23682195],\n",
       "       [0.68401277, 0.31598723],\n",
       "       [0.62116901, 0.37883099],\n",
       "       [0.15986522, 0.84013478],\n",
       "       [0.44656154, 0.55343846],\n",
       "       [0.91221262, 0.08778738],\n",
       "       [0.72840256, 0.27159744],\n",
       "       [0.88124405, 0.11875595],\n",
       "       [0.3528996 , 0.6471004 ],\n",
       "       [0.92479129, 0.07520871],\n",
       "       [0.8242504 , 0.1757496 ],\n",
       "       [0.67063493, 0.32936507],\n",
       "       [0.59066371, 0.40933629],\n",
       "       [0.29918448, 0.70081552],\n",
       "       [0.63368831, 0.36631169],\n",
       "       [0.9045755 , 0.0954245 ],\n",
       "       [0.90718505, 0.09281495],\n",
       "       [0.85313419, 0.14686581],\n",
       "       [0.856928  , 0.143072  ],\n",
       "       [0.10134389, 0.89865611],\n",
       "       [0.07884603, 0.92115397],\n",
       "       [0.91929305, 0.08070695],\n",
       "       [0.06844039, 0.93155961],\n",
       "       [0.72643085, 0.27356915],\n",
       "       [0.18994876, 0.81005124],\n",
       "       [0.18678953, 0.81321047],\n",
       "       [0.53907087, 0.46092913],\n",
       "       [0.18562922, 0.81437078],\n",
       "       [0.85313419, 0.14686581],\n",
       "       [0.82827641, 0.17172359],\n",
       "       [0.87468655, 0.12531345],\n",
       "       [0.87468655, 0.12531345],\n",
       "       [0.90973036, 0.09026964],\n",
       "       [0.88124405, 0.11875595],\n",
       "       [0.20610356, 0.79389644],\n",
       "       [0.25978907, 0.74021093],\n",
       "       [0.38749591, 0.61250409],\n",
       "       [0.50089031, 0.49910969],\n",
       "       [0.64830027, 0.35169973],\n",
       "       [0.87714046, 0.12285954],\n",
       "       [0.7993367 , 0.2006633 ],\n",
       "       [0.68846205, 0.31153795],\n",
       "       [0.95112714, 0.04887286],\n",
       "       [0.60489756, 0.39510244],\n",
       "       [0.8242504 , 0.1757496 ],\n",
       "       [0.84929265, 0.15070735],\n",
       "       [0.85313419, 0.14686581],\n",
       "       [0.69547341, 0.30452659],\n",
       "       [0.89915891, 0.10084109],\n",
       "       [0.89915891, 0.10084109],\n",
       "       [0.8242504 , 0.1757496 ],\n",
       "       [0.856928  , 0.143072  ],\n",
       "       [0.87468655, 0.12531345],\n",
       "       [0.87468655, 0.12531345],\n",
       "       [0.07041782, 0.92958218],\n",
       "       [0.68185955, 0.31814045],\n",
       "       [0.13611066, 0.86388934],\n",
       "       [0.07229442, 0.92770558],\n",
       "       [0.16437064, 0.83562936],\n",
       "       [0.88124405, 0.11875595],\n",
       "       [0.8557045 , 0.1442955 ],\n",
       "       [0.86427057, 0.13572943],\n",
       "       [0.93555693, 0.06444307],\n",
       "       [0.89549649, 0.10450351],\n",
       "       [0.89052246, 0.10947754],\n",
       "       [0.42399412, 0.57600588],\n",
       "       [0.86427057, 0.13572943],\n",
       "       [0.97587376, 0.02412624],\n",
       "       [0.3670017 , 0.6329983 ],\n",
       "       [0.87129292, 0.12870708],\n",
       "       [0.29798165, 0.70201835],\n",
       "       [0.44599639, 0.55400361],\n",
       "       [0.88124405, 0.11875595],\n",
       "       [0.05928894, 0.94071106],\n",
       "       [0.88124405, 0.11875595],\n",
       "       [0.73886785, 0.26113215],\n",
       "       [0.75193632, 0.24806368],\n",
       "       [0.81050802, 0.18949198],\n",
       "       [0.62834453, 0.37165547],\n",
       "       [0.90391251, 0.09608749],\n",
       "       [0.14091648, 0.85908352],\n",
       "       [0.89052246, 0.10947754],\n",
       "       [0.3174484 , 0.6825516 ],\n",
       "       [0.44751978, 0.55248022],\n",
       "       [0.88124405, 0.11875595],\n",
       "       [0.24440638, 0.75559362],\n",
       "       [0.91221262, 0.08778738],\n",
       "       [0.08111841, 0.91888159],\n",
       "       [0.8242504 , 0.1757496 ],\n",
       "       [0.52439889, 0.47560111],\n",
       "       [0.94431181, 0.05568819],\n",
       "       [0.04842065, 0.95157935],\n",
       "       [0.7223051 , 0.2776949 ],\n",
       "       [0.8242504 , 0.1757496 ],\n",
       "       [0.90634436, 0.09365564],\n",
       "       [0.92979436, 0.07020564],\n",
       "       [0.55311024, 0.44688976],\n",
       "       [0.57578482, 0.42421518],\n",
       "       [0.1256395 , 0.8743605 ],\n",
       "       [0.3942388 , 0.6057612 ],\n",
       "       [0.82164586, 0.17835414],\n",
       "       [0.40911748, 0.59088252],\n",
       "       [0.78381559, 0.21618441],\n",
       "       [0.86785278, 0.13214722],\n",
       "       [0.37414086, 0.62585914],\n",
       "       [0.41747921, 0.58252079],\n",
       "       [0.74034251, 0.25965749],\n",
       "       [0.06462245, 0.93537755],\n",
       "       [0.2606696 , 0.7393304 ],\n",
       "       [0.86427057, 0.13572943],\n",
       "       [0.80456111, 0.19543889],\n",
       "       [0.87714046, 0.12285954],\n",
       "       [0.7740634 , 0.2259366 ],\n",
       "       [0.44666537, 0.55333463],\n",
       "       [0.75193632, 0.24806368],\n",
       "       [0.86067275, 0.13932725],\n",
       "       [0.38133524, 0.61866476],\n",
       "       [0.86063981, 0.13936019],\n",
       "       [0.46173578, 0.53826422],\n",
       "       [0.8058053 , 0.1941947 ],\n",
       "       [0.89634948, 0.10365052],\n",
       "       [0.61270605, 0.38729395],\n",
       "       [0.86608773, 0.13391227],\n",
       "       [0.63421902, 0.36578098],\n",
       "       [0.3528996 , 0.6471004 ],\n",
       "       [0.1604805 , 0.8395195 ],\n",
       "       [0.8844101 , 0.1155899 ],\n",
       "       [0.83607473, 0.16392527],\n",
       "       [0.04842065, 0.95157935],\n",
       "       [0.92153504, 0.07846496],\n",
       "       [0.69059086, 0.30940914],\n",
       "       [0.85241312, 0.14758688],\n",
       "       [0.56829174, 0.43170826],\n",
       "       [0.57578482, 0.42421518],\n",
       "       [0.24861834, 0.75138166],\n",
       "       [0.05760465, 0.94239535],\n",
       "       [0.43883803, 0.56116197],\n",
       "       [0.85971889, 0.14028111],\n",
       "       [0.8058053 , 0.1941947 ],\n",
       "       [0.32420923, 0.67579077],\n",
       "       [0.91463303, 0.08536697],\n",
       "       [0.94268014, 0.05731986],\n",
       "       [0.91147728, 0.08852272],\n",
       "       [0.8844101 , 0.1155899 ],\n",
       "       [0.97587376, 0.02412624],\n",
       "       [0.71571484, 0.28428516],\n",
       "       [0.46173578, 0.53826422],\n",
       "       [0.50750404, 0.49249596],\n",
       "       [0.78127315, 0.21872685],\n",
       "       [0.33733535, 0.66266465],\n",
       "       [0.9583843 , 0.0416157 ],\n",
       "       [0.66161642, 0.33838358],\n",
       "       [0.50750404, 0.49249596],\n",
       "       [0.85241312, 0.14758688],\n",
       "       [0.92792298, 0.07207702],\n",
       "       [0.46173578, 0.53826422],\n",
       "       [0.94431181, 0.05568819],\n",
       "       [0.87468655, 0.12531345],\n",
       "       [0.44751978, 0.55248022],\n",
       "       [0.58268721, 0.41731279],\n",
       "       [0.60636965, 0.39363035],\n",
       "       [0.27218566, 0.72781434],\n",
       "       [0.36557104, 0.63442896],\n",
       "       [0.33776327, 0.66223673],\n",
       "       [0.04831538, 0.95168462],\n",
       "       [0.26214798, 0.73785202],\n",
       "       [0.89832641, 0.10167359],\n",
       "       [0.97165856, 0.02834144],\n",
       "       [0.18678953, 0.81321047],\n",
       "       [0.43798706, 0.56201294],\n",
       "       [0.34266417, 0.65733583],\n",
       "       [0.07886598, 0.92113402],\n",
       "       [0.88124405, 0.11875595],\n",
       "       [0.18528375, 0.81471625],\n",
       "       [0.88124405, 0.11875595],\n",
       "       [0.86063981, 0.13936019],\n",
       "       [0.87800323, 0.12199677],\n",
       "       [0.84533292, 0.15466708],\n",
       "       [0.33002172, 0.66997828],\n",
       "       [0.12341666, 0.87658334],\n",
       "       [0.7161241 , 0.2838759 ],\n",
       "       [0.68401277, 0.31598723]])"
      ]
     },
     "execution_count": 39,
     "metadata": {},
     "output_type": "execute_result"
    }
   ],
   "source": [
    "LogReg.predict_proba(Xtest)"
   ]
  },
  {
   "cell_type": "markdown",
   "id": "34588bda",
   "metadata": {},
   "source": [
    "# Predicting the Titanic dataset(test.csv)"
   ]
  },
  {
   "cell_type": "code",
   "execution_count": 40,
   "id": "6fdccc9a",
   "metadata": {},
   "outputs": [],
   "source": [
    "test_set = pd.read_csv(r\"C:\\Users\\USER\\Documents\\test.csv\")"
   ]
  },
  {
   "cell_type": "code",
   "execution_count": 41,
   "id": "04b10605",
   "metadata": {},
   "outputs": [
    {
     "data": {
      "text/html": [
       "<div>\n",
       "<style scoped>\n",
       "    .dataframe tbody tr th:only-of-type {\n",
       "        vertical-align: middle;\n",
       "    }\n",
       "\n",
       "    .dataframe tbody tr th {\n",
       "        vertical-align: top;\n",
       "    }\n",
       "\n",
       "    .dataframe thead th {\n",
       "        text-align: right;\n",
       "    }\n",
       "</style>\n",
       "<table border=\"1\" class=\"dataframe\">\n",
       "  <thead>\n",
       "    <tr style=\"text-align: right;\">\n",
       "      <th></th>\n",
       "      <th>PassengerId</th>\n",
       "      <th>Pclass</th>\n",
       "      <th>Name</th>\n",
       "      <th>Sex</th>\n",
       "      <th>Age</th>\n",
       "      <th>SibSp</th>\n",
       "      <th>Parch</th>\n",
       "      <th>Ticket</th>\n",
       "      <th>Fare</th>\n",
       "      <th>Cabin</th>\n",
       "      <th>Embarked</th>\n",
       "    </tr>\n",
       "  </thead>\n",
       "  <tbody>\n",
       "    <tr>\n",
       "      <th>0</th>\n",
       "      <td>892</td>\n",
       "      <td>3</td>\n",
       "      <td>Kelly, Mr. James</td>\n",
       "      <td>male</td>\n",
       "      <td>34.5</td>\n",
       "      <td>0</td>\n",
       "      <td>0</td>\n",
       "      <td>330911</td>\n",
       "      <td>7.8292</td>\n",
       "      <td>NaN</td>\n",
       "      <td>Q</td>\n",
       "    </tr>\n",
       "    <tr>\n",
       "      <th>1</th>\n",
       "      <td>893</td>\n",
       "      <td>3</td>\n",
       "      <td>Wilkes, Mrs. James (Ellen Needs)</td>\n",
       "      <td>female</td>\n",
       "      <td>47.0</td>\n",
       "      <td>1</td>\n",
       "      <td>0</td>\n",
       "      <td>363272</td>\n",
       "      <td>7.0000</td>\n",
       "      <td>NaN</td>\n",
       "      <td>S</td>\n",
       "    </tr>\n",
       "    <tr>\n",
       "      <th>2</th>\n",
       "      <td>894</td>\n",
       "      <td>2</td>\n",
       "      <td>Myles, Mr. Thomas Francis</td>\n",
       "      <td>male</td>\n",
       "      <td>62.0</td>\n",
       "      <td>0</td>\n",
       "      <td>0</td>\n",
       "      <td>240276</td>\n",
       "      <td>9.6875</td>\n",
       "      <td>NaN</td>\n",
       "      <td>Q</td>\n",
       "    </tr>\n",
       "    <tr>\n",
       "      <th>3</th>\n",
       "      <td>895</td>\n",
       "      <td>3</td>\n",
       "      <td>Wirz, Mr. Albert</td>\n",
       "      <td>male</td>\n",
       "      <td>27.0</td>\n",
       "      <td>0</td>\n",
       "      <td>0</td>\n",
       "      <td>315154</td>\n",
       "      <td>8.6625</td>\n",
       "      <td>NaN</td>\n",
       "      <td>S</td>\n",
       "    </tr>\n",
       "    <tr>\n",
       "      <th>4</th>\n",
       "      <td>896</td>\n",
       "      <td>3</td>\n",
       "      <td>Hirvonen, Mrs. Alexander (Helga E Lindqvist)</td>\n",
       "      <td>female</td>\n",
       "      <td>22.0</td>\n",
       "      <td>1</td>\n",
       "      <td>1</td>\n",
       "      <td>3101298</td>\n",
       "      <td>12.2875</td>\n",
       "      <td>NaN</td>\n",
       "      <td>S</td>\n",
       "    </tr>\n",
       "  </tbody>\n",
       "</table>\n",
       "</div>"
      ],
      "text/plain": [
       "   PassengerId  Pclass                                          Name     Sex  \\\n",
       "0          892       3                              Kelly, Mr. James    male   \n",
       "1          893       3              Wilkes, Mrs. James (Ellen Needs)  female   \n",
       "2          894       2                     Myles, Mr. Thomas Francis    male   \n",
       "3          895       3                              Wirz, Mr. Albert    male   \n",
       "4          896       3  Hirvonen, Mrs. Alexander (Helga E Lindqvist)  female   \n",
       "\n",
       "    Age  SibSp  Parch   Ticket     Fare Cabin Embarked  \n",
       "0  34.5      0      0   330911   7.8292   NaN        Q  \n",
       "1  47.0      1      0   363272   7.0000   NaN        S  \n",
       "2  62.0      0      0   240276   9.6875   NaN        Q  \n",
       "3  27.0      0      0   315154   8.6625   NaN        S  \n",
       "4  22.0      1      1  3101298  12.2875   NaN        S  "
      ]
     },
     "execution_count": 41,
     "metadata": {},
     "output_type": "execute_result"
    }
   ],
   "source": [
    "test_set.head()"
   ]
  },
  {
   "cell_type": "code",
   "execution_count": 42,
   "id": "b1f913b8",
   "metadata": {},
   "outputs": [],
   "source": [
    "test_dummied = pd.get_dummies(test_set, columns=[\"Sex\", \"Embarked\"])"
   ]
  },
  {
   "cell_type": "code",
   "execution_count": 43,
   "id": "fceb7a36",
   "metadata": {},
   "outputs": [
    {
     "data": {
      "text/html": [
       "<div>\n",
       "<style scoped>\n",
       "    .dataframe tbody tr th:only-of-type {\n",
       "        vertical-align: middle;\n",
       "    }\n",
       "\n",
       "    .dataframe tbody tr th {\n",
       "        vertical-align: top;\n",
       "    }\n",
       "\n",
       "    .dataframe thead th {\n",
       "        text-align: right;\n",
       "    }\n",
       "</style>\n",
       "<table border=\"1\" class=\"dataframe\">\n",
       "  <thead>\n",
       "    <tr style=\"text-align: right;\">\n",
       "      <th></th>\n",
       "      <th>PassengerId</th>\n",
       "      <th>Pclass</th>\n",
       "      <th>Name</th>\n",
       "      <th>Age</th>\n",
       "      <th>SibSp</th>\n",
       "      <th>Parch</th>\n",
       "      <th>Ticket</th>\n",
       "      <th>Fare</th>\n",
       "      <th>Cabin</th>\n",
       "      <th>Sex_female</th>\n",
       "      <th>Sex_male</th>\n",
       "      <th>Embarked_C</th>\n",
       "      <th>Embarked_Q</th>\n",
       "      <th>Embarked_S</th>\n",
       "    </tr>\n",
       "  </thead>\n",
       "  <tbody>\n",
       "    <tr>\n",
       "      <th>0</th>\n",
       "      <td>892</td>\n",
       "      <td>3</td>\n",
       "      <td>Kelly, Mr. James</td>\n",
       "      <td>34.5</td>\n",
       "      <td>0</td>\n",
       "      <td>0</td>\n",
       "      <td>330911</td>\n",
       "      <td>7.8292</td>\n",
       "      <td>NaN</td>\n",
       "      <td>0</td>\n",
       "      <td>1</td>\n",
       "      <td>0</td>\n",
       "      <td>1</td>\n",
       "      <td>0</td>\n",
       "    </tr>\n",
       "    <tr>\n",
       "      <th>1</th>\n",
       "      <td>893</td>\n",
       "      <td>3</td>\n",
       "      <td>Wilkes, Mrs. James (Ellen Needs)</td>\n",
       "      <td>47.0</td>\n",
       "      <td>1</td>\n",
       "      <td>0</td>\n",
       "      <td>363272</td>\n",
       "      <td>7.0000</td>\n",
       "      <td>NaN</td>\n",
       "      <td>1</td>\n",
       "      <td>0</td>\n",
       "      <td>0</td>\n",
       "      <td>0</td>\n",
       "      <td>1</td>\n",
       "    </tr>\n",
       "    <tr>\n",
       "      <th>2</th>\n",
       "      <td>894</td>\n",
       "      <td>2</td>\n",
       "      <td>Myles, Mr. Thomas Francis</td>\n",
       "      <td>62.0</td>\n",
       "      <td>0</td>\n",
       "      <td>0</td>\n",
       "      <td>240276</td>\n",
       "      <td>9.6875</td>\n",
       "      <td>NaN</td>\n",
       "      <td>0</td>\n",
       "      <td>1</td>\n",
       "      <td>0</td>\n",
       "      <td>1</td>\n",
       "      <td>0</td>\n",
       "    </tr>\n",
       "    <tr>\n",
       "      <th>3</th>\n",
       "      <td>895</td>\n",
       "      <td>3</td>\n",
       "      <td>Wirz, Mr. Albert</td>\n",
       "      <td>27.0</td>\n",
       "      <td>0</td>\n",
       "      <td>0</td>\n",
       "      <td>315154</td>\n",
       "      <td>8.6625</td>\n",
       "      <td>NaN</td>\n",
       "      <td>0</td>\n",
       "      <td>1</td>\n",
       "      <td>0</td>\n",
       "      <td>0</td>\n",
       "      <td>1</td>\n",
       "    </tr>\n",
       "    <tr>\n",
       "      <th>4</th>\n",
       "      <td>896</td>\n",
       "      <td>3</td>\n",
       "      <td>Hirvonen, Mrs. Alexander (Helga E Lindqvist)</td>\n",
       "      <td>22.0</td>\n",
       "      <td>1</td>\n",
       "      <td>1</td>\n",
       "      <td>3101298</td>\n",
       "      <td>12.2875</td>\n",
       "      <td>NaN</td>\n",
       "      <td>1</td>\n",
       "      <td>0</td>\n",
       "      <td>0</td>\n",
       "      <td>0</td>\n",
       "      <td>1</td>\n",
       "    </tr>\n",
       "  </tbody>\n",
       "</table>\n",
       "</div>"
      ],
      "text/plain": [
       "   PassengerId  Pclass                                          Name   Age  \\\n",
       "0          892       3                              Kelly, Mr. James  34.5   \n",
       "1          893       3              Wilkes, Mrs. James (Ellen Needs)  47.0   \n",
       "2          894       2                     Myles, Mr. Thomas Francis  62.0   \n",
       "3          895       3                              Wirz, Mr. Albert  27.0   \n",
       "4          896       3  Hirvonen, Mrs. Alexander (Helga E Lindqvist)  22.0   \n",
       "\n",
       "   SibSp  Parch   Ticket     Fare Cabin  Sex_female  Sex_male  Embarked_C  \\\n",
       "0      0      0   330911   7.8292   NaN           0         1           0   \n",
       "1      1      0   363272   7.0000   NaN           1         0           0   \n",
       "2      0      0   240276   9.6875   NaN           0         1           0   \n",
       "3      0      0   315154   8.6625   NaN           0         1           0   \n",
       "4      1      1  3101298  12.2875   NaN           1         0           0   \n",
       "\n",
       "   Embarked_Q  Embarked_S  \n",
       "0           1           0  \n",
       "1           0           1  \n",
       "2           1           0  \n",
       "3           0           1  \n",
       "4           0           1  "
      ]
     },
     "execution_count": 43,
     "metadata": {},
     "output_type": "execute_result"
    }
   ],
   "source": [
    "test_dummied.head()"
   ]
  },
  {
   "cell_type": "code",
   "execution_count": 44,
   "id": "8fe3ecdb",
   "metadata": {},
   "outputs": [],
   "source": [
    "feat = [\"Pclass\",\"Age\",\"SibSp\",\"Sex_female\",\"Sex_male\",\"Embarked_C\",\"Embarked_Q\",\"Embarked_S\"]"
   ]
  },
  {
   "cell_type": "code",
   "execution_count": 45,
   "id": "9050fb24",
   "metadata": {},
   "outputs": [],
   "source": [
    "X_test_set = test_dummied[feat].values"
   ]
  },
  {
   "cell_type": "code",
   "execution_count": 46,
   "id": "2e34547f",
   "metadata": {},
   "outputs": [],
   "source": [
    "from sklearn.impute import SimpleImputer\n",
    "\n",
    "# replace  missing values using descriptive statistic \"most frequent(mode) along each column\"\n",
    "imp = SimpleImputer(missing_values=np.nan, strategy='most_frequent')\n",
    "\n",
    "# fit the imputer into the training and testing data\n",
    "# X_train = imp.fit_transform(X_train)\n",
    "X_test_set = imp.fit_transform(X_test_set)"
   ]
  },
  {
   "cell_type": "code",
   "execution_count": 47,
   "id": "a14d2205",
   "metadata": {},
   "outputs": [],
   "source": [
    "from sklearn.ensemble import AdaBoostClassifier\n",
    "import xgboost as xgb\n",
    "classifier = xgb.XGBClassifier()"
   ]
  },
  {
   "cell_type": "code",
   "execution_count": null,
   "id": "88361b5e",
   "metadata": {},
   "outputs": [],
   "source": [
    "classifier_fit = classifier.fit(Xtrain,ytrain)"
   ]
  },
  {
   "cell_type": "code",
   "execution_count": null,
   "id": "2c07c464",
   "metadata": {},
   "outputs": [],
   "source": [
    "# lets make predictions from our test.csv\n",
    "predict = classifier.predict(X_test_set)"
   ]
  },
  {
   "cell_type": "code",
   "execution_count": null,
   "id": "86ca76b5",
   "metadata": {},
   "outputs": [],
   "source": [
    "predict"
   ]
  },
  {
   "cell_type": "code",
   "execution_count": null,
   "id": "86a56348",
   "metadata": {},
   "outputs": [],
   "source": [
    "Kaggle = pd.DataFrame({'Passengers':test_dummied['PassengerId'], 'Survived':predict})"
   ]
  },
  {
   "cell_type": "code",
   "execution_count": null,
   "id": "1abf937e",
   "metadata": {},
   "outputs": [],
   "source": [
    "Kaggle.head()"
   ]
  },
  {
   "cell_type": "code",
   "execution_count": null,
   "id": "1d8a69dc",
   "metadata": {},
   "outputs": [],
   "source": [
    "accuracy = classifier.score(X_test_set, predict)"
   ]
  },
  {
   "cell_type": "code",
   "execution_count": null,
   "id": "d05d341e",
   "metadata": {},
   "outputs": [],
   "source": [
    "accuracy"
   ]
  },
  {
   "cell_type": "code",
   "execution_count": null,
   "id": "8b344afd",
   "metadata": {},
   "outputs": [],
   "source": [
    "# change to csv file\n",
    "submission_file = Kaggle.to_csv('kaggle.csv', index=False)"
   ]
  },
  {
   "cell_type": "code",
   "execution_count": null,
   "id": "85b40710",
   "metadata": {},
   "outputs": [],
   "source": []
  },
  {
   "cell_type": "code",
   "execution_count": null,
   "id": "3f0c4f60",
   "metadata": {},
   "outputs": [],
   "source": []
  },
  {
   "cell_type": "code",
   "execution_count": null,
   "id": "eeb19e00",
   "metadata": {},
   "outputs": [],
   "source": []
  },
  {
   "cell_type": "code",
   "execution_count": null,
   "id": "8d87f91e",
   "metadata": {},
   "outputs": [],
   "source": []
  },
  {
   "cell_type": "code",
   "execution_count": null,
   "id": "9e16eec7",
   "metadata": {},
   "outputs": [],
   "source": []
  },
  {
   "cell_type": "code",
   "execution_count": null,
   "id": "696352a5",
   "metadata": {},
   "outputs": [],
   "source": []
  },
  {
   "cell_type": "code",
   "execution_count": null,
   "id": "369b7036",
   "metadata": {},
   "outputs": [],
   "source": []
  },
  {
   "cell_type": "code",
   "execution_count": null,
   "id": "aea1f57a",
   "metadata": {},
   "outputs": [],
   "source": []
  },
  {
   "cell_type": "code",
   "execution_count": null,
   "id": "07c8f0ff",
   "metadata": {},
   "outputs": [],
   "source": []
  },
  {
   "cell_type": "code",
   "execution_count": null,
   "id": "ee87641c",
   "metadata": {},
   "outputs": [],
   "source": []
  },
  {
   "cell_type": "code",
   "execution_count": null,
   "id": "225bba34",
   "metadata": {},
   "outputs": [],
   "source": []
  },
  {
   "cell_type": "code",
   "execution_count": null,
   "id": "7a88261d",
   "metadata": {},
   "outputs": [],
   "source": []
  },
  {
   "cell_type": "code",
   "execution_count": null,
   "id": "50be9484",
   "metadata": {},
   "outputs": [],
   "source": []
  }
 ],
 "metadata": {
  "kernelspec": {
   "display_name": "Python 3 (ipykernel)",
   "language": "python",
   "name": "python3"
  },
  "language_info": {
   "codemirror_mode": {
    "name": "ipython",
    "version": 3
   },
   "file_extension": ".py",
   "mimetype": "text/x-python",
   "name": "python",
   "nbconvert_exporter": "python",
   "pygments_lexer": "ipython3",
   "version": "3.9.12"
  }
 },
 "nbformat": 4,
 "nbformat_minor": 5
}

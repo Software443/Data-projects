{
 "cells": [
  {
   "cell_type": "code",
   "execution_count": 1,
   "id": "f48f0223",
   "metadata": {},
   "outputs": [],
   "source": [
    "speed = [12, 13,17, 11]\n",
    "duration = [30, 55, 2, 4]"
   ]
  },
  {
   "cell_type": "code",
   "execution_count": 2,
   "id": "5669a0b2",
   "metadata": {},
   "outputs": [
    {
     "ename": "TypeError",
     "evalue": "unsupported operand type(s) for /: 'list' and 'list'",
     "output_type": "error",
     "traceback": [
      "\u001b[1;31m---------------------------------------------------------------------------\u001b[0m",
      "\u001b[1;31mTypeError\u001b[0m                                 Traceback (most recent call last)",
      "Input \u001b[1;32mIn [2]\u001b[0m, in \u001b[0;36m<cell line: 1>\u001b[1;34m()\u001b[0m\n\u001b[1;32m----> 1\u001b[0m result \u001b[38;5;241m=\u001b[39m \u001b[43mspeed\u001b[49m\u001b[38;5;241;43m/\u001b[39;49m\u001b[43mduration\u001b[49m\n",
      "\u001b[1;31mTypeError\u001b[0m: unsupported operand type(s) for /: 'list' and 'list'"
     ]
    }
   ],
   "source": [
    "result = speed/duration"
   ]
  },
  {
   "cell_type": "code",
   "execution_count": 3,
   "id": "79e5fca1",
   "metadata": {},
   "outputs": [],
   "source": [
    "speed = [12, 13, 17, 11]\n",
    "duration = [30, 55, 2, 4]"
   ]
  },
  {
   "cell_type": "code",
   "execution_count": 4,
   "id": "08baba1a",
   "metadata": {},
   "outputs": [],
   "source": [
    "# import required library\n",
    "import numpy as np"
   ]
  },
  {
   "cell_type": "code",
   "execution_count": 8,
   "id": "a6c247a3",
   "metadata": {},
   "outputs": [],
   "source": [
    "# create speed and duration Numpy arrays\n",
    "np_speed = np.array(speed)\n",
    "np_duration = np.array(duration)"
   ]
  },
  {
   "cell_type": "code",
   "execution_count": 9,
   "id": "e6764bf4",
   "metadata": {},
   "outputs": [],
   "source": [
    "distance = np_speed/np_duration"
   ]
  },
  {
   "cell_type": "code",
   "execution_count": 10,
   "id": "5127f2bb",
   "metadata": {},
   "outputs": [
    {
     "data": {
      "text/plain": [
       "array([0.4       , 0.23636364, 8.5       , 2.75      ])"
      ]
     },
     "execution_count": 10,
     "metadata": {},
     "output_type": "execute_result"
    }
   ],
   "source": [
    "distance"
   ]
  },
  {
   "cell_type": "markdown",
   "id": "191dc1da",
   "metadata": {},
   "source": [
    "# Classes and Attributes of ndarray: ndim"
   ]
  },
  {
   "cell_type": "code",
   "execution_count": 12,
   "id": "244d9093",
   "metadata": {},
   "outputs": [],
   "source": [
    "np_car = np.array(['Volvo','Camry','Benz','Range'])"
   ]
  },
  {
   "cell_type": "code",
   "execution_count": 13,
   "id": "0d4b4a14",
   "metadata": {},
   "outputs": [
    {
     "data": {
      "text/plain": [
       "1"
      ]
     },
     "execution_count": 13,
     "metadata": {},
     "output_type": "execute_result"
    }
   ],
   "source": [
    "np_car.ndim"
   ]
  },
  {
   "cell_type": "code",
   "execution_count": 14,
   "id": "a650b6d0",
   "metadata": {},
   "outputs": [],
   "source": [
    "np_car_with_color = np.array([['Volvo','Camry','Benz','Range'],['red', 'orange', 'yellow', 'blue']])"
   ]
  },
  {
   "cell_type": "code",
   "execution_count": 15,
   "id": "eea643de",
   "metadata": {},
   "outputs": [
    {
     "data": {
      "text/plain": [
       "2"
      ]
     },
     "execution_count": 15,
     "metadata": {},
     "output_type": "execute_result"
    }
   ],
   "source": [
    "np_car_with_color.ndim"
   ]
  },
  {
   "cell_type": "markdown",
   "id": "0090d3b1",
   "metadata": {},
   "source": [
    "# Classes and Attributes of ndarray: shape"
   ]
  },
  {
   "cell_type": "code",
   "execution_count": 16,
   "id": "d50fc28b",
   "metadata": {},
   "outputs": [
    {
     "data": {
      "text/plain": [
       "(4,)"
      ]
     },
     "execution_count": 16,
     "metadata": {},
     "output_type": "execute_result"
    }
   ],
   "source": [
    "np_car.shape"
   ]
  },
  {
   "cell_type": "code",
   "execution_count": 17,
   "id": "36871fd1",
   "metadata": {},
   "outputs": [
    {
     "data": {
      "text/plain": [
       "(2, 4)"
      ]
     },
     "execution_count": 17,
     "metadata": {},
     "output_type": "execute_result"
    }
   ],
   "source": [
    "np_car_with_color.shape"
   ]
  },
  {
   "cell_type": "markdown",
   "id": "3cf2a3f6",
   "metadata": {},
   "source": [
    "# Classes and Attributes of ndarray: size"
   ]
  },
  {
   "cell_type": "code",
   "execution_count": 18,
   "id": "d9923e82",
   "metadata": {},
   "outputs": [
    {
     "data": {
      "text/plain": [
       "4"
      ]
     },
     "execution_count": 18,
     "metadata": {},
     "output_type": "execute_result"
    }
   ],
   "source": [
    "np_car.size"
   ]
  },
  {
   "cell_type": "code",
   "execution_count": 19,
   "id": "a34e215a",
   "metadata": {},
   "outputs": [
    {
     "data": {
      "text/plain": [
       "8"
      ]
     },
     "execution_count": 19,
     "metadata": {},
     "output_type": "execute_result"
    }
   ],
   "source": [
    "np_car_with_color.size"
   ]
  },
  {
   "cell_type": "markdown",
   "id": "9fa106b7",
   "metadata": {},
   "source": [
    "# Classes and Attributes of ndarray: dtype"
   ]
  },
  {
   "cell_type": "code",
   "execution_count": 20,
   "id": "28c50866",
   "metadata": {},
   "outputs": [
    {
     "data": {
      "text/plain": [
       "array(['Volvo', 'Camry', 'Benz', 'Range'], dtype='<U5')"
      ]
     },
     "execution_count": 20,
     "metadata": {},
     "output_type": "execute_result"
    }
   ],
   "source": [
    "np_car"
   ]
  },
  {
   "cell_type": "code",
   "execution_count": 21,
   "id": "e087dddd",
   "metadata": {},
   "outputs": [
    {
     "data": {
      "text/plain": [
       "dtype('<U5')"
      ]
     },
     "execution_count": 21,
     "metadata": {},
     "output_type": "execute_result"
    }
   ],
   "source": [
    "np_car.dtype"
   ]
  },
  {
   "cell_type": "markdown",
   "id": "951e0852",
   "metadata": {},
   "source": [
    "# Basic Operations"
   ]
  },
  {
   "cell_type": "code",
   "execution_count": 22,
   "id": "413399ec",
   "metadata": {},
   "outputs": [],
   "source": [
    "first_car_owners = [12,15,7,9]"
   ]
  },
  {
   "cell_type": "code",
   "execution_count": 23,
   "id": "cc0df95b",
   "metadata": {},
   "outputs": [],
   "source": [
    "second_car_owners = [5,10,13,19]"
   ]
  },
  {
   "cell_type": "code",
   "execution_count": 24,
   "id": "5c1a4eb4",
   "metadata": {},
   "outputs": [],
   "source": [
    "np_first_car_owners = np.array(first_car_owners)"
   ]
  },
  {
   "cell_type": "code",
   "execution_count": 25,
   "id": "4354fdf0",
   "metadata": {},
   "outputs": [],
   "source": [
    "np_second_car_owners = np.array(second_car_owners)"
   ]
  },
  {
   "cell_type": "code",
   "execution_count": 26,
   "id": "668247a9",
   "metadata": {},
   "outputs": [
    {
     "data": {
      "text/plain": [
       "array([17, 25, 20, 28])"
      ]
     },
     "execution_count": 26,
     "metadata": {},
     "output_type": "execute_result"
    }
   ],
   "source": [
    "np_first_car_owners+np_second_car_owners"
   ]
  },
  {
   "cell_type": "markdown",
   "id": "fc7e9434",
   "metadata": {},
   "source": [
    "# Access Array Element: Indexing"
   ]
  },
  {
   "cell_type": "code",
   "execution_count": 32,
   "id": "2d1c1b7e",
   "metadata": {},
   "outputs": [],
   "source": [
    "# create 2D array\n",
    "cars_owned = np.array([[12,15,7,9],[5,10,13,19]])"
   ]
  },
  {
   "cell_type": "code",
   "execution_count": 33,
   "id": "cfedeeed",
   "metadata": {},
   "outputs": [
    {
     "data": {
      "text/plain": [
       "array([12, 15,  7,  9])"
      ]
     },
     "execution_count": 33,
     "metadata": {},
     "output_type": "execute_result"
    }
   ],
   "source": [
    "cars_owned[0]"
   ]
  },
  {
   "cell_type": "code",
   "execution_count": 34,
   "id": "cc31fd35",
   "metadata": {},
   "outputs": [
    {
     "data": {
      "text/plain": [
       "array([ 5, 10, 13, 19])"
      ]
     },
     "execution_count": 34,
     "metadata": {},
     "output_type": "execute_result"
    }
   ],
   "source": [
    "cars_owned[1]"
   ]
  },
  {
   "cell_type": "code",
   "execution_count": 35,
   "id": "5580673a",
   "metadata": {},
   "outputs": [
    {
     "data": {
      "text/plain": [
       "15"
      ]
     },
     "execution_count": 35,
     "metadata": {},
     "output_type": "execute_result"
    }
   ],
   "source": [
    "cars_owned[0][1]"
   ]
  },
  {
   "cell_type": "code",
   "execution_count": 38,
   "id": "0436b1cf",
   "metadata": {},
   "outputs": [
    {
     "data": {
      "text/plain": [
       "array([15, 10])"
      ]
     },
     "execution_count": 38,
     "metadata": {},
     "output_type": "execute_result"
    }
   ],
   "source": [
    "cars_owned[:,1]"
   ]
  },
  {
   "cell_type": "markdown",
   "id": "5b67a167",
   "metadata": {},
   "source": [
    "# Accessing Array Elements: Slicing"
   ]
  },
  {
   "cell_type": "code",
   "execution_count": 39,
   "id": "96e77ad7",
   "metadata": {},
   "outputs": [
    {
     "data": {
      "text/plain": [
       "array([[12, 15,  7,  9],\n",
       "       [ 5, 10, 13, 19]])"
      ]
     },
     "execution_count": 39,
     "metadata": {},
     "output_type": "execute_result"
    }
   ],
   "source": [
    "cars_owned"
   ]
  },
  {
   "cell_type": "code",
   "execution_count": 40,
   "id": "52fa56a0",
   "metadata": {},
   "outputs": [
    {
     "data": {
      "text/plain": [
       "(2, 4)"
      ]
     },
     "execution_count": 40,
     "metadata": {},
     "output_type": "execute_result"
    }
   ],
   "source": [
    "cars_owned.shape"
   ]
  },
  {
   "cell_type": "code",
   "execution_count": 42,
   "id": "823dfe8c",
   "metadata": {},
   "outputs": [],
   "source": [
    "range_cars_owned = cars_owned[:,1:3]"
   ]
  },
  {
   "cell_type": "code",
   "execution_count": 43,
   "id": "1fd95c80",
   "metadata": {},
   "outputs": [
    {
     "data": {
      "text/plain": [
       "array([[15,  7],\n",
       "       [10, 13]])"
      ]
     },
     "execution_count": 43,
     "metadata": {},
     "output_type": "execute_result"
    }
   ],
   "source": [
    "range_cars_owned"
   ]
  },
  {
   "cell_type": "code",
   "execution_count": 44,
   "id": "876a0dbb",
   "metadata": {},
   "outputs": [],
   "source": [
    "new_array = np.array([6, 8, 10, 20])"
   ]
  },
  {
   "cell_type": "code",
   "execution_count": 45,
   "id": "4f46afe1",
   "metadata": {},
   "outputs": [
    {
     "data": {
      "text/plain": [
       "array([6, 8])"
      ]
     },
     "execution_count": 45,
     "metadata": {},
     "output_type": "execute_result"
    }
   ],
   "source": [
    "new_array[0:2]"
   ]
  },
  {
   "cell_type": "markdown",
   "id": "88f95321",
   "metadata": {},
   "source": [
    "# Accessing Array Elements: Iteration"
   ]
  },
  {
   "cell_type": "code",
   "execution_count": 46,
   "id": "9457c40e",
   "metadata": {},
   "outputs": [
    {
     "data": {
      "text/plain": [
       "array([[12, 15,  7,  9],\n",
       "       [ 5, 10, 13, 19]])"
      ]
     },
     "execution_count": 46,
     "metadata": {},
     "output_type": "execute_result"
    }
   ],
   "source": [
    "cars_owned"
   ]
  },
  {
   "cell_type": "code",
   "execution_count": 47,
   "id": "d7a94e8c",
   "metadata": {},
   "outputs": [
    {
     "name": "stdout",
     "output_type": "stream",
     "text": [
      "[12 15  7  9]\n",
      "[ 5 10 13 19]\n"
     ]
    }
   ],
   "source": [
    "for car in cars_owned:\n",
    "    print(car)"
   ]
  },
  {
   "cell_type": "markdown",
   "id": "5bac0f50",
   "metadata": {},
   "source": [
    "# Indexing with Boolean Arrays"
   ]
  },
  {
   "cell_type": "code",
   "execution_count": 48,
   "id": "4ab16e76",
   "metadata": {},
   "outputs": [],
   "source": [
    "maths_score = np.array([[35,67,83,47],[58,67,92,45]])"
   ]
  },
  {
   "cell_type": "code",
   "execution_count": 50,
   "id": "cf2c8c17",
   "metadata": {},
   "outputs": [],
   "source": [
    "passed_score = maths_score>50"
   ]
  },
  {
   "cell_type": "code",
   "execution_count": 51,
   "id": "ec56d282",
   "metadata": {},
   "outputs": [
    {
     "data": {
      "text/plain": [
       "array([[False,  True,  True, False],\n",
       "       [ True,  True,  True, False]])"
      ]
     },
     "execution_count": 51,
     "metadata": {},
     "output_type": "execute_result"
    }
   ],
   "source": [
    "passed_score"
   ]
  },
  {
   "cell_type": "code",
   "execution_count": 53,
   "id": "5be2ab41",
   "metadata": {},
   "outputs": [
    {
     "data": {
      "text/plain": [
       "array([67, 83, 58, 67, 92])"
      ]
     },
     "execution_count": 53,
     "metadata": {},
     "output_type": "execute_result"
    }
   ],
   "source": [
    "maths_score[passed_score]"
   ]
  },
  {
   "cell_type": "markdown",
   "id": "bbb613c5",
   "metadata": {},
   "source": [
    "# Copy and views"
   ]
  },
  {
   "cell_type": "code",
   "execution_count": 55,
   "id": "f0bac6d5",
   "metadata": {},
   "outputs": [],
   "source": [
    "States = np.array(['Abia','Imo','Enugu','Zamfara','Abuja','Lagos'])"
   ]
  },
  {
   "cell_type": "code",
   "execution_count": 56,
   "id": "fe5ff751",
   "metadata": {},
   "outputs": [
    {
     "data": {
      "text/plain": [
       "array(['Abia', 'Imo', 'Enugu', 'Zamfara', 'Abuja', 'Lagos'], dtype='<U7')"
      ]
     },
     "execution_count": 56,
     "metadata": {},
     "output_type": "execute_result"
    }
   ],
   "source": [
    "States"
   ]
  },
  {
   "cell_type": "code",
   "execution_count": 57,
   "id": "c94a0f14",
   "metadata": {},
   "outputs": [],
   "source": [
    "Total_states = States"
   ]
  },
  {
   "cell_type": "code",
   "execution_count": 58,
   "id": "a5494f2e",
   "metadata": {},
   "outputs": [
    {
     "data": {
      "text/plain": [
       "array(['Abia', 'Imo', 'Enugu', 'Zamfara', 'Abuja', 'Lagos'], dtype='<U7')"
      ]
     },
     "execution_count": 58,
     "metadata": {},
     "output_type": "execute_result"
    }
   ],
   "source": [
    "Total_states"
   ]
  },
  {
   "cell_type": "code",
   "execution_count": 59,
   "id": "15c58329",
   "metadata": {},
   "outputs": [
    {
     "data": {
      "text/plain": [
       "True"
      ]
     },
     "execution_count": 59,
     "metadata": {},
     "output_type": "execute_result"
    }
   ],
   "source": [
    "Total_states is States"
   ]
  },
  {
   "cell_type": "code",
   "execution_count": 60,
   "id": "61a1d56f",
   "metadata": {},
   "outputs": [
    {
     "data": {
      "text/plain": [
       "array(['Abia', 'Imo', 'Enugu', 'Zamfara', 'Abuja', 'Lagos'], dtype='<U7')"
      ]
     },
     "execution_count": 60,
     "metadata": {},
     "output_type": "execute_result"
    }
   ],
   "source": [
    "Total_states"
   ]
  },
  {
   "cell_type": "code",
   "execution_count": 61,
   "id": "a8c4c4ac",
   "metadata": {},
   "outputs": [],
   "source": [
    "view_total_states = Total_states.view()"
   ]
  },
  {
   "cell_type": "code",
   "execution_count": 62,
   "id": "6297a9a9",
   "metadata": {},
   "outputs": [
    {
     "data": {
      "text/plain": [
       "6"
      ]
     },
     "execution_count": 62,
     "metadata": {},
     "output_type": "execute_result"
    }
   ],
   "source": [
    "len(view_total_states)"
   ]
  },
  {
   "cell_type": "code",
   "execution_count": 63,
   "id": "388275ab",
   "metadata": {},
   "outputs": [],
   "source": [
    "# change value in the view object\n",
    "view_total_states[1] = \"Benue\""
   ]
  },
  {
   "cell_type": "code",
   "execution_count": 64,
   "id": "461f2e46",
   "metadata": {},
   "outputs": [
    {
     "data": {
      "text/plain": [
       "array(['Abia', 'Benue', 'Enugu', 'Zamfara', 'Abuja', 'Lagos'], dtype='<U7')"
      ]
     },
     "execution_count": 64,
     "metadata": {},
     "output_type": "execute_result"
    }
   ],
   "source": [
    "view_total_states"
   ]
  },
  {
   "cell_type": "code",
   "execution_count": 65,
   "id": "643def5b",
   "metadata": {},
   "outputs": [
    {
     "data": {
      "text/plain": [
       "array(['Abia', 'Benue', 'Enugu', 'Zamfara', 'Abuja', 'Lagos'], dtype='<U7')"
      ]
     },
     "execution_count": 65,
     "metadata": {},
     "output_type": "execute_result"
    }
   ],
   "source": [
    "# original dataset\n",
    "Total_states"
   ]
  },
  {
   "cell_type": "code",
   "execution_count": 66,
   "id": "c1214920",
   "metadata": {},
   "outputs": [],
   "source": [
    "copy_states = States.copy()"
   ]
  },
  {
   "cell_type": "code",
   "execution_count": 67,
   "id": "9717f968",
   "metadata": {},
   "outputs": [
    {
     "data": {
      "text/plain": [
       "False"
      ]
     },
     "execution_count": 67,
     "metadata": {},
     "output_type": "execute_result"
    }
   ],
   "source": [
    "copy_states is States"
   ]
  },
  {
   "cell_type": "code",
   "execution_count": 68,
   "id": "ede27cf1",
   "metadata": {},
   "outputs": [],
   "source": [
    "States[3] = 'Niger'"
   ]
  },
  {
   "cell_type": "code",
   "execution_count": 69,
   "id": "442b5cbc",
   "metadata": {},
   "outputs": [
    {
     "data": {
      "text/plain": [
       "array(['Abia', 'Benue', 'Enugu', 'Niger', 'Abuja', 'Lagos'], dtype='<U7')"
      ]
     },
     "execution_count": 69,
     "metadata": {},
     "output_type": "execute_result"
    }
   ],
   "source": [
    "States"
   ]
  },
  {
   "cell_type": "code",
   "execution_count": 71,
   "id": "6d2be182",
   "metadata": {},
   "outputs": [
    {
     "data": {
      "text/plain": [
       "array(['Abia', 'Benue', 'Enugu', 'Zamfara', 'Abuja', 'Lagos'], dtype='<U7')"
      ]
     },
     "execution_count": 71,
     "metadata": {},
     "output_type": "execute_result"
    }
   ],
   "source": [
    "copy_states"
   ]
  },
  {
   "cell_type": "markdown",
   "id": "af08b990",
   "metadata": {},
   "source": [
    "# Universal Functions(ufunc)"
   ]
  },
  {
   "cell_type": "code",
   "execution_count": 72,
   "id": "aa578628",
   "metadata": {},
   "outputs": [],
   "source": [
    "# find the square root of the following numbers\n",
    "np_sqrt = np.sqrt([2,9,16,64])"
   ]
  },
  {
   "cell_type": "code",
   "execution_count": 73,
   "id": "f256114c",
   "metadata": {},
   "outputs": [
    {
     "data": {
      "text/plain": [
       "array([1.41421356, 3.        , 4.        , 8.        ])"
      ]
     },
     "execution_count": 73,
     "metadata": {},
     "output_type": "execute_result"
    }
   ],
   "source": [
    "np_sqrt"
   ]
  },
  {
   "cell_type": "code",
   "execution_count": 74,
   "id": "828cf07c",
   "metadata": {},
   "outputs": [],
   "source": [
    "# import pi\n",
    "from numpy import pi"
   ]
  },
  {
   "cell_type": "code",
   "execution_count": 75,
   "id": "cb124fba",
   "metadata": {},
   "outputs": [
    {
     "data": {
      "text/plain": [
       "1.0"
      ]
     },
     "execution_count": 75,
     "metadata": {},
     "output_type": "execute_result"
    }
   ],
   "source": [
    "np.cos(0)"
   ]
  },
  {
   "cell_type": "code",
   "execution_count": 76,
   "id": "a4a07b2e",
   "metadata": {},
   "outputs": [
    {
     "data": {
      "text/plain": [
       "1.0"
      ]
     },
     "execution_count": 76,
     "metadata": {},
     "output_type": "execute_result"
    }
   ],
   "source": [
    "np.sin(pi/2)"
   ]
  },
  {
   "cell_type": "code",
   "execution_count": 77,
   "id": "6c711714",
   "metadata": {},
   "outputs": [
    {
     "data": {
      "text/plain": [
       "-1.0"
      ]
     },
     "execution_count": 77,
     "metadata": {},
     "output_type": "execute_result"
    }
   ],
   "source": [
    "np.cos(pi)"
   ]
  },
  {
   "cell_type": "code",
   "execution_count": 78,
   "id": "307bdd75",
   "metadata": {},
   "outputs": [
    {
     "data": {
      "text/plain": [
       "array([ 1.,  2.,  3.,  1., -1.])"
      ]
     },
     "execution_count": 78,
     "metadata": {},
     "output_type": "execute_result"
    }
   ],
   "source": [
    "np.floor([1.6,2.7,3.2,1.1,-0.4])"
   ]
  },
  {
   "cell_type": "code",
   "execution_count": 79,
   "id": "4fad3b2f",
   "metadata": {},
   "outputs": [
    {
     "data": {
      "text/plain": [
       "array([ 1.        ,  2.71828183, 54.59815003])"
      ]
     },
     "execution_count": 79,
     "metadata": {},
     "output_type": "execute_result"
    }
   ],
   "source": [
    "np.exp([0,1,4])"
   ]
  },
  {
   "cell_type": "markdown",
   "id": "cc50eaad",
   "metadata": {},
   "source": [
    "# shape manipulation"
   ]
  },
  {
   "cell_type": "code",
   "execution_count": 80,
   "id": "50f97e5f",
   "metadata": {},
   "outputs": [],
   "source": [
    "new_numbers = np.array([[12,11,34,54,34,23],[3,54,23,65,67,12]])"
   ]
  },
  {
   "cell_type": "code",
   "execution_count": 83,
   "id": "cc07b428",
   "metadata": {},
   "outputs": [
    {
     "data": {
      "text/plain": [
       "array([[12, 11, 34, 54, 34, 23],\n",
       "       [ 3, 54, 23, 65, 67, 12]])"
      ]
     },
     "execution_count": 83,
     "metadata": {},
     "output_type": "execute_result"
    }
   ],
   "source": [
    "new_numbers"
   ]
  },
  {
   "cell_type": "code",
   "execution_count": 81,
   "id": "49414f09",
   "metadata": {},
   "outputs": [
    {
     "data": {
      "text/plain": [
       "array([12, 11, 34, 54, 34, 23,  3, 54, 23, 65, 67, 12])"
      ]
     },
     "execution_count": 81,
     "metadata": {},
     "output_type": "execute_result"
    }
   ],
   "source": [
    "# flatten the dataset\n",
    "new_numbers.ravel()"
   ]
  },
  {
   "cell_type": "code",
   "execution_count": 86,
   "id": "84e56517",
   "metadata": {},
   "outputs": [
    {
     "data": {
      "text/plain": [
       "array([[12, 11],\n",
       "       [34, 54],\n",
       "       [34, 23],\n",
       "       [ 3, 54],\n",
       "       [23, 65],\n",
       "       [67, 12]])"
      ]
     },
     "execution_count": 86,
     "metadata": {},
     "output_type": "execute_result"
    }
   ],
   "source": [
    "# reshapes the dataset to 3 rows and 4 columns\n",
    "new_numbers.reshape(6,2)"
   ]
  },
  {
   "cell_type": "code",
   "execution_count": 87,
   "id": "e06d5d1c",
   "metadata": {},
   "outputs": [],
   "source": [
    "# resign again to 2 rows and 6 columns\n",
    "new_numbers.resize(2,6)"
   ]
  },
  {
   "cell_type": "code",
   "execution_count": 88,
   "id": "b06aefa9",
   "metadata": {},
   "outputs": [
    {
     "data": {
      "text/plain": [
       "array([[12, 11, 34, 54, 34, 23],\n",
       "       [ 3, 54, 23, 65, 67, 12]])"
      ]
     },
     "execution_count": 88,
     "metadata": {},
     "output_type": "execute_result"
    }
   ],
   "source": [
    "new_numbers"
   ]
  },
  {
   "cell_type": "code",
   "execution_count": 90,
   "id": "56f76ac8",
   "metadata": {},
   "outputs": [
    {
     "data": {
      "text/plain": [
       "[array([[12, 11, 34],\n",
       "        [ 3, 54, 23]]),\n",
       " array([[54, 34, 23],\n",
       "        [65, 67, 12]])]"
      ]
     },
     "execution_count": 90,
     "metadata": {},
     "output_type": "execute_result"
    }
   ],
   "source": [
    "# split the array into two\n",
    "np.hsplit(new_numbers,2)"
   ]
  },
  {
   "cell_type": "code",
   "execution_count": 91,
   "id": "73f0c0e0",
   "metadata": {},
   "outputs": [],
   "source": [
    "stack1 =np.array([12,11,34,54,34,23])\n",
    "stack2 = np.array([3,54,23,65,67,12])"
   ]
  },
  {
   "cell_type": "code",
   "execution_count": 93,
   "id": "074a6700",
   "metadata": {},
   "outputs": [
    {
     "data": {
      "text/plain": [
       "array([12, 11, 34, 54, 34, 23,  3, 54, 23, 65, 67, 12])"
      ]
     },
     "execution_count": 93,
     "metadata": {},
     "output_type": "execute_result"
    }
   ],
   "source": [
    "np.hstack((stack1,stack2))"
   ]
  },
  {
   "cell_type": "markdown",
   "id": "eb9e2a95",
   "metadata": {},
   "source": [
    "# Broadcasting"
   ]
  },
  {
   "cell_type": "code",
   "execution_count": 94,
   "id": "5b0a26fd",
   "metadata": {},
   "outputs": [],
   "source": [
    "# create two arrays of the same type\n",
    "array1 = np.array([2,3,4,5])\n",
    "array2 = np.array([6,7,8,9])"
   ]
  },
  {
   "cell_type": "code",
   "execution_count": 95,
   "id": "865ed6d5",
   "metadata": {},
   "outputs": [
    {
     "data": {
      "text/plain": [
       "array([12, 21, 32, 45])"
      ]
     },
     "execution_count": 95,
     "metadata": {},
     "output_type": "execute_result"
    }
   ],
   "source": [
    "array1 * array2"
   ]
  },
  {
   "cell_type": "code",
   "execution_count": 96,
   "id": "ee202b59",
   "metadata": {},
   "outputs": [],
   "source": [
    "array3 = 3"
   ]
  },
  {
   "cell_type": "code",
   "execution_count": 97,
   "id": "7e9ae064",
   "metadata": {},
   "outputs": [
    {
     "data": {
      "text/plain": [
       "array([ 6,  9, 12, 15])"
      ]
     },
     "execution_count": 97,
     "metadata": {},
     "output_type": "execute_result"
    }
   ],
   "source": [
    "array1 * array3"
   ]
  },
  {
   "cell_type": "markdown",
   "id": "0f9c5251",
   "metadata": {},
   "source": [
    "# Broadcasting constraint"
   ]
  },
  {
   "cell_type": "code",
   "execution_count": 98,
   "id": "5e3ddc2c",
   "metadata": {},
   "outputs": [],
   "source": [
    "array4 = np.array([5,6])"
   ]
  },
  {
   "cell_type": "code",
   "execution_count": 99,
   "id": "277d64f2",
   "metadata": {},
   "outputs": [
    {
     "ename": "ValueError",
     "evalue": "operands could not be broadcast together with shapes (4,) (2,) ",
     "output_type": "error",
     "traceback": [
      "\u001b[1;31m---------------------------------------------------------------------------\u001b[0m",
      "\u001b[1;31mValueError\u001b[0m                                Traceback (most recent call last)",
      "Input \u001b[1;32mIn [99]\u001b[0m, in \u001b[0;36m<cell line: 1>\u001b[1;34m()\u001b[0m\n\u001b[1;32m----> 1\u001b[0m \u001b[43marray1\u001b[49m\u001b[43m \u001b[49m\u001b[38;5;241;43m*\u001b[39;49m\u001b[43m \u001b[49m\u001b[43marray4\u001b[49m\n",
      "\u001b[1;31mValueError\u001b[0m: operands could not be broadcast together with shapes (4,) (2,) "
     ]
    }
   ],
   "source": [
    "array1 * array4"
   ]
  },
  {
   "cell_type": "code",
   "execution_count": 100,
   "id": "f4ca1bf7",
   "metadata": {},
   "outputs": [],
   "source": [
    "np_workers_per_day1 = np.array([23, 123, 176, 183])\n",
    "np_workers_per_day2 = np.array([35, 163, 156, 144])"
   ]
  },
  {
   "cell_type": "code",
   "execution_count": 101,
   "id": "530c5a30",
   "metadata": {},
   "outputs": [],
   "source": [
    "total_earning = np_workers_per_day1+np_workers_per_day2"
   ]
  },
  {
   "cell_type": "code",
   "execution_count": 103,
   "id": "46793597",
   "metadata": {},
   "outputs": [
    {
     "data": {
      "text/plain": [
       "array([ 3.86666667, 19.06666667, 22.13333333, 21.8       ])"
      ]
     },
     "execution_count": 103,
     "metadata": {},
     "output_type": "execute_result"
    }
   ],
   "source": [
    "total_earning/15"
   ]
  },
  {
   "cell_type": "markdown",
   "id": "db9c70b7",
   "metadata": {},
   "source": [
    "# Transpose"
   ]
  },
  {
   "cell_type": "code",
   "execution_count": 104,
   "id": "9fcaaab5",
   "metadata": {},
   "outputs": [],
   "source": [
    "test_score = np.array([[83,71,45,56],[45,67,87,89]])"
   ]
  },
  {
   "cell_type": "code",
   "execution_count": 105,
   "id": "d51ac46d",
   "metadata": {},
   "outputs": [
    {
     "data": {
      "text/plain": [
       "array([[83, 71, 45, 56],\n",
       "       [45, 67, 87, 89]])"
      ]
     },
     "execution_count": 105,
     "metadata": {},
     "output_type": "execute_result"
    }
   ],
   "source": [
    "test_score"
   ]
  },
  {
   "cell_type": "code",
   "execution_count": 106,
   "id": "ecb0e759",
   "metadata": {},
   "outputs": [
    {
     "data": {
      "text/plain": [
       "array([[83, 45],\n",
       "       [71, 67],\n",
       "       [45, 87],\n",
       "       [56, 89]])"
      ]
     },
     "execution_count": 106,
     "metadata": {},
     "output_type": "execute_result"
    }
   ],
   "source": [
    "test_score.transpose()"
   ]
  },
  {
   "cell_type": "code",
   "execution_count": 110,
   "id": "a9159f74",
   "metadata": {},
   "outputs": [],
   "source": [
    "# Inverse and Trace Function\n",
    "price = np.array([[10,20],[15,25]])"
   ]
  },
  {
   "cell_type": "code",
   "execution_count": 111,
   "id": "7cc361e1",
   "metadata": {},
   "outputs": [
    {
     "data": {
      "text/plain": [
       "array([[-0.5,  0.4],\n",
       "       [ 0.3, -0.2]])"
      ]
     },
     "execution_count": 111,
     "metadata": {},
     "output_type": "execute_result"
    }
   ],
   "source": [
    "np.linalg.inv(price)"
   ]
  },
  {
   "cell_type": "code",
   "execution_count": 113,
   "id": "d4d8abf4",
   "metadata": {},
   "outputs": [
    {
     "data": {
      "text/plain": [
       "array([[10, 20],\n",
       "       [15, 25]])"
      ]
     },
     "execution_count": 113,
     "metadata": {},
     "output_type": "execute_result"
    }
   ],
   "source": [
    "price"
   ]
  },
  {
   "cell_type": "code",
   "execution_count": 112,
   "id": "d9f14f5b",
   "metadata": {},
   "outputs": [
    {
     "data": {
      "text/plain": [
       "35"
      ]
     },
     "execution_count": 112,
     "metadata": {},
     "output_type": "execute_result"
    }
   ],
   "source": [
    "#  trace function\n",
    "np.trace(price)"
   ]
  },
  {
   "cell_type": "code",
   "execution_count": null,
   "id": "46d94ca5",
   "metadata": {},
   "outputs": [],
   "source": []
  },
  {
   "cell_type": "code",
   "execution_count": null,
   "id": "c6f5d5ad",
   "metadata": {},
   "outputs": [],
   "source": []
  }
 ],
 "metadata": {
  "kernelspec": {
   "display_name": "Python 3 (ipykernel)",
   "language": "python",
   "name": "python3"
  },
  "language_info": {
   "codemirror_mode": {
    "name": "ipython",
    "version": 3
   },
   "file_extension": ".py",
   "mimetype": "text/x-python",
   "name": "python",
   "nbconvert_exporter": "python",
   "pygments_lexer": "ipython3",
   "version": "3.9.12"
  }
 },
 "nbformat": 4,
 "nbformat_minor": 5
}
